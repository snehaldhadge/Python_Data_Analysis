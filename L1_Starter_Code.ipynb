{
 "cells": [
  {
   "cell_type": "markdown",
   "metadata": {},
   "source": [
    "## Load Data from CSVs"
   ]
  },
  {
   "cell_type": "code",
   "execution_count": 1,
   "metadata": {},
   "outputs": [],
   "source": [
    "import unicodecsv\n",
    "\n",
    "## Longer version of code (replaced with shorter, equivalent version below)\n",
    "\n",
    "# enrollments = []\n",
    "# f = open('enrollments.csv', 'rb')\n",
    "# reader = unicodecsv.DictReader(f)\n",
    "# for row in reader:\n",
    "#     enrollments.append(row)\n",
    "# f.close()\n",
    "\n",
    "with open('enrollments.csv', 'rb') as f:\n",
    "    reader = unicodecsv.DictReader(f)\n",
    "    enrollments = list(reader)"
   ]
  },
  {
   "cell_type": "code",
   "execution_count": 16,
   "metadata": {},
   "outputs": [
    {
     "name": "stdout",
     "output_type": "stream",
     "text": [
      "OrderedDict([('account_key', '448'), ('status', 'canceled'), ('join_date', '2014-11-10'), ('cancel_date', '2015-01-14'), ('days_to_cancel', '65'), ('is_udacity', 'True'), ('is_canceled', 'True')])\n",
      "OrderedDict([('acct', '0'), ('utc_date', '2015-01-09'), ('num_courses_visited', '1.0'), ('total_minutes_visited', '11.6793745'), ('lessons_completed', '0.0'), ('projects_completed', '0.0')])\n",
      "OrderedDict([('creation_date', '2015-01-14'), ('completion_date', '2015-01-16'), ('assigned_rating', 'UNGRADED'), ('account_key', '256'), ('lesson_key', '3176718735'), ('processing_state', 'EVALUATED')])\n"
     ]
    }
   ],
   "source": [
    "#####################################\n",
    "#                 1                 #\n",
    "#####################################\n",
    "\n",
    "## Read in the data from daily_engagement.csv and project_submissions.csv \n",
    "## and store the results in the below variables.\n",
    "## Then look at the first row of each table.\n",
    "def read_csv(filename):\n",
    "\twith open(filename,'rb') as f:\n",
    "\t\treader = unicodecsv.DictReader(f)\n",
    "\t\tdata_content = list(reader)\n",
    "\t\tf.close()\n",
    "\treturn data_content\n",
    "enrollments = read_csv('enrollments.csv')\n",
    "daily_engagement = read_csv('daily_engagement.csv')\n",
    "project_submissions = read_csv('project_submissions.csv')\n",
    "print(enrollments[0])\n",
    "print(daily_engagements[0])\n",
    "print(project_submissions[0])"
   ]
  },
  {
   "cell_type": "markdown",
   "metadata": {},
   "source": [
    "## Fixing Data Types"
   ]
  },
  {
   "cell_type": "code",
   "execution_count": 17,
   "metadata": {},
   "outputs": [
    {
     "data": {
      "text/plain": [
       "OrderedDict([('account_key', '448'),\n",
       "             ('status', 'canceled'),\n",
       "             ('join_date', datetime.datetime(2014, 11, 10, 0, 0)),\n",
       "             ('cancel_date', datetime.datetime(2015, 1, 14, 0, 0)),\n",
       "             ('days_to_cancel', 65),\n",
       "             ('is_udacity', True),\n",
       "             ('is_canceled', True)])"
      ]
     },
     "execution_count": 17,
     "metadata": {},
     "output_type": "execute_result"
    }
   ],
   "source": [
    "from datetime import datetime as dt\n",
    "\n",
    "# Takes a date as a string, and returns a Python datetime object. \n",
    "# If there is no date given, returns None\n",
    "def parse_date(date):\n",
    "    if date == '':\n",
    "        return None\n",
    "    else:\n",
    "        return dt.strptime(date, '%Y-%m-%d')\n",
    "    \n",
    "# Takes a string which is either an empty string or represents an integer,\n",
    "# and returns an int or None.\n",
    "def parse_maybe_int(i):\n",
    "    if i == '':\n",
    "        return None\n",
    "    else:\n",
    "        return int(i)\n",
    "\n",
    "# Clean up the data types in the enrollments table\n",
    "for enrollment in enrollments:\n",
    "    enrollment['cancel_date'] = parse_date(enrollment['cancel_date'])\n",
    "    enrollment['days_to_cancel'] = parse_maybe_int(enrollment['days_to_cancel'])\n",
    "    enrollment['is_canceled'] = enrollment['is_canceled'] == 'True'\n",
    "    enrollment['is_udacity'] = enrollment['is_udacity'] == 'True'\n",
    "    enrollment['join_date'] = parse_date(enrollment['join_date'])\n",
    "    \n",
    "enrollments[0]"
   ]
  },
  {
   "cell_type": "code",
   "execution_count": 18,
   "metadata": {},
   "outputs": [
    {
     "data": {
      "text/plain": [
       "OrderedDict([('acct', '0'),\n",
       "             ('utc_date', datetime.datetime(2015, 1, 9, 0, 0)),\n",
       "             ('num_courses_visited', 1),\n",
       "             ('total_minutes_visited', 11.6793745),\n",
       "             ('lessons_completed', 0),\n",
       "             ('projects_completed', 0),\n",
       "             ('account_key', '0')])"
      ]
     },
     "execution_count": 18,
     "metadata": {},
     "output_type": "execute_result"
    }
   ],
   "source": [
    "# Clean up the data types in the engagement table\n",
    "for engagement_record in daily_engagement:\n",
    "    engagement_record['lessons_completed'] = int(float(engagement_record['lessons_completed']))\n",
    "    engagement_record['num_courses_visited'] = int(float(engagement_record['num_courses_visited']))\n",
    "    engagement_record['projects_completed'] = int(float(engagement_record['projects_completed']))\n",
    "    engagement_record['total_minutes_visited'] = float(engagement_record['total_minutes_visited'])\n",
    "    engagement_record['utc_date'] = parse_date(engagement_record['utc_date'])\n",
    "    engagement_record['account_key'] = engagement_record['acct']\n",
    "daily_engagement[0]"
   ]
  },
  {
   "cell_type": "code",
   "execution_count": 19,
   "metadata": {},
   "outputs": [
    {
     "data": {
      "text/plain": [
       "OrderedDict([('creation_date', datetime.datetime(2015, 1, 14, 0, 0)),\n",
       "             ('completion_date', datetime.datetime(2015, 1, 16, 0, 0)),\n",
       "             ('assigned_rating', 'UNGRADED'),\n",
       "             ('account_key', '256'),\n",
       "             ('lesson_key', '3176718735'),\n",
       "             ('processing_state', 'EVALUATED')])"
      ]
     },
     "execution_count": 19,
     "metadata": {},
     "output_type": "execute_result"
    }
   ],
   "source": [
    "# Clean up the data types in the submissions table\n",
    "for submission in project_submissions:\n",
    "    submission['completion_date'] = parse_date(submission['completion_date'])\n",
    "    submission['creation_date'] = parse_date(submission['creation_date'])\n",
    "\n",
    "project_submissions[0]"
   ]
  },
  {
   "cell_type": "markdown",
   "metadata": {},
   "source": [
    "## Investigating the Data"
   ]
  },
  {
   "cell_type": "code",
   "execution_count": 20,
   "metadata": {},
   "outputs": [
    {
     "name": "stdout",
     "output_type": "stream",
     "text": [
      "unique_enrolled_students\n",
      "1302\n",
      "1237\n",
      "743\n"
     ]
    }
   ],
   "source": [
    "#####################################\n",
    "#                 2                 #\n",
    "#####################################\n",
    "\n",
    "## Find the total number of rows and the number of unique students (account keys)\n",
    "## in each table.\n",
    "\n",
    "def get_unique_students(data):\n",
    "\tunique_students = set()\n",
    "\tfor data_point in data:\n",
    "\t\tunique_students.add(data_point['account_key'])\n",
    "\treturn unique_students\n",
    "\n",
    "unique_enrolled_students = get_unique_students(enrollments)\n",
    "print(\"unique_enrolled_students\")\n",
    "print(len(unique_enrolled_students))\n",
    "unique_engagement_students = get_unique_students(daily_engagement)\n",
    "print(len(unique_engagement_students))\n",
    "unique_proj_submitters = get_unique_students(project_submissions)\n",
    "print(len(unique_proj_submitters))"
   ]
  },
  {
   "cell_type": "markdown",
   "metadata": {},
   "source": [
    "## Problems in the Data"
   ]
  },
  {
   "cell_type": "code",
   "execution_count": null,
   "metadata": {
    "collapsed": true
   },
   "outputs": [],
   "source": [
    "#####################################\n",
    "#                 3                 #\n",
    "#####################################\n",
    "\n",
    "## Rename the \"acct\" column in the daily_engagement table to \"account_key\"."
   ]
  },
  {
   "cell_type": "markdown",
   "metadata": {},
   "source": [
    "## Missing Engagement Records"
   ]
  },
  {
   "cell_type": "code",
   "execution_count": 22,
   "metadata": {},
   "outputs": [
    {
     "name": "stdout",
     "output_type": "stream",
     "text": [
      "OrderedDict([('account_key', '1219'), ('status', 'canceled'), ('join_date', datetime.datetime(2014, 11, 12, 0, 0)), ('cancel_date', datetime.datetime(2014, 11, 12, 0, 0)), ('days_to_cancel', 0), ('is_udacity', False), ('is_canceled', True)])\n",
      "OrderedDict([('account_key', '1304'), ('status', 'canceled'), ('join_date', datetime.datetime(2015, 1, 10, 0, 0)), ('cancel_date', datetime.datetime(2015, 3, 10, 0, 0)), ('days_to_cancel', 59), ('is_udacity', True), ('is_canceled', True)])\n",
      "OrderedDict([('account_key', '1304'), ('status', 'canceled'), ('join_date', datetime.datetime(2015, 3, 10, 0, 0)), ('cancel_date', datetime.datetime(2015, 6, 17, 0, 0)), ('days_to_cancel', 99), ('is_udacity', True), ('is_canceled', True)])\n",
      "OrderedDict([('account_key', '1101'), ('status', 'current'), ('join_date', datetime.datetime(2015, 2, 25, 0, 0)), ('cancel_date', None), ('days_to_cancel', None), ('is_udacity', True), ('is_canceled', False)])\n",
      "3\n"
     ]
    }
   ],
   "source": [
    "#####################################\n",
    "#                 4                 #\n",
    "#####################################\n",
    "\n",
    "## Find any one student enrollments where the student is missing from the daily engagement table.\n",
    "## Output that enrollment.\n",
    "\n",
    "for enrol in enrollments:\n",
    "\tstudent = enrol['account_key']\n",
    "\tif student not in unique_engagement_students:\n",
    "\t\tprint(enrol)\n",
    "\t\tbreak\n",
    "\n",
    "#from above we can see these are motsly cancelled tsudents who canceled on joining date\n",
    "\n",
    "#to see any other students we do foll\n",
    "prob_student=0;\n",
    "for enrol in enrollments:\n",
    "\tstudent = enrol['account_key']\n",
    "\tif student not in unique_engagement_students and enrol['join_date']!= enrol['cancel_date']:\n",
    "\t\tprint(enrol)\n",
    "\t\tprob_student+=1\n",
    "\n",
    "print(prob_student)        "
   ]
  },
  {
   "cell_type": "markdown",
   "metadata": {},
   "source": [
    "## Checking for More Problem Records"
   ]
  },
  {
   "cell_type": "code",
   "execution_count": 30,
   "metadata": {},
   "outputs": [
    {
     "data": {
      "text/plain": [
       "136240"
      ]
     },
     "execution_count": 30,
     "metadata": {},
     "output_type": "execute_result"
    }
   ],
   "source": [
    "#####################################\n",
    "#                 5                 #\n",
    "#####################################\n",
    "\n",
    "## Find the number of surprising data points (enrollments missing from\n",
    "## the engagement table) that remain, if any.\n",
    "\n",
    "len(daily_engagement)"
   ]
  },
  {
   "cell_type": "markdown",
   "metadata": {},
   "source": [
    "## Tracking Down the Remaining Problems"
   ]
  },
  {
   "cell_type": "code",
   "execution_count": 27,
   "metadata": {},
   "outputs": [
    {
     "data": {
      "text/plain": [
       "6"
      ]
     },
     "execution_count": 27,
     "metadata": {},
     "output_type": "execute_result"
    }
   ],
   "source": [
    "# Create a set of the account keys for all Udacity test accounts\n",
    "udacity_test_accounts = set()\n",
    "for enrollment in enrollments:\n",
    "    if enrollment['is_udacity']:\n",
    "        udacity_test_accounts.add(enrollment['account_key'])\n",
    "len(udacity_test_accounts)"
   ]
  },
  {
   "cell_type": "code",
   "execution_count": 28,
   "metadata": {},
   "outputs": [],
   "source": [
    "# Given some data with an account_key field, removes any records corresponding to Udacity test accounts\n",
    "def remove_udacity_accounts(data):\n",
    "    non_udacity_data = []\n",
    "    for data_point in data:\n",
    "        if data_point['account_key'] not in udacity_test_accounts:\n",
    "            non_udacity_data.append(data_point)\n",
    "    return non_udacity_data"
   ]
  },
  {
   "cell_type": "code",
   "execution_count": 29,
   "metadata": {},
   "outputs": [
    {
     "name": "stdout",
     "output_type": "stream",
     "text": [
      "1622\n",
      "135656\n",
      "3634\n"
     ]
    }
   ],
   "source": [
    "# Remove Udacity test accounts from all three tables\n",
    "non_udacity_enrollments = remove_udacity_accounts(enrollments)\n",
    "non_udacity_engagement = remove_udacity_accounts(daily_engagement)\n",
    "non_udacity_submissions = remove_udacity_accounts(project_submissions)\n",
    "\n",
    "print(len(non_udacity_enrollments))\n",
    "print(len(non_udacity_engagement))\n",
    "print(len(non_udacity_submissions))"
   ]
  },
  {
   "cell_type": "markdown",
   "metadata": {},
   "source": [
    "## Refining the Question"
   ]
  },
  {
   "cell_type": "code",
   "execution_count": 31,
   "metadata": {},
   "outputs": [
    {
     "name": "stdout",
     "output_type": "stream",
     "text": [
      "999\n"
     ]
    }
   ],
   "source": [
    "#####################################\n",
    "#                 6                 #\n",
    "#####################################\n",
    "\n",
    "## Create a dictionary named paid_students containing all students who either\n",
    "## haven't canceled yet or who remained enrolled for more than 7 days. The keys\n",
    "## should be account keys, and the values should be the date the student enrolled.\n",
    "\n",
    "paid_students = dict()\n",
    "for enrol in enrollments:\n",
    "\tif not enrol['is_canceled'] or enrol['days_to_cancel'] > 7:\n",
    "\t\taccount_key=enrol['account_key']\n",
    "\t\tenrol_date = enrol['join_date']\n",
    "\n",
    "\n",
    "\t\tif account_key not in paid_students or \\\n",
    "\t\t\t\tenrol_date > paid_students[account_key]:\n",
    "\t\t\tpaid_students[account_key] = enrol_date\n",
    "\n",
    "print(len(paid_students))\n"
   ]
  },
  {
   "cell_type": "markdown",
   "metadata": {},
   "source": [
    "## Getting Data from First Week"
   ]
  },
  {
   "cell_type": "code",
   "execution_count": 48,
   "metadata": {},
   "outputs": [
    {
     "name": "stdout",
     "output_type": "stream",
     "text": [
      "{'448': datetime.datetime(2015, 3, 10, 0, 0), '429': datetime.datetime(2015, 3, 10, 0, 0), '60': datetime.datetime(2015, 4, 1, 0, 0), '369': datetime.datetime(2014, 11, 10, 0, 0), '322': datetime.datetime(2015, 3, 10, 0, 0), '336': datetime.datetime(2014, 11, 10, 0, 0), '553': datetime.datetime(2014, 11, 10, 0, 0), '584': datetime.datetime(2015, 3, 10, 0, 0), '458': datetime.datetime(2015, 4, 6, 0, 0), '1058': datetime.datetime(2015, 3, 10, 0, 0), '206': datetime.datetime(2014, 11, 10, 0, 0), '45': datetime.datetime(2015, 3, 10, 0, 0), '315': datetime.datetime(2014, 11, 10, 0, 0), '604': datetime.datetime(2014, 11, 10, 0, 0), '204': datetime.datetime(2014, 11, 10, 0, 0), '408': datetime.datetime(2015, 4, 1, 0, 0), '51': datetime.datetime(2015, 3, 10, 0, 0), '323': datetime.datetime(2014, 11, 10, 0, 0), '568': datetime.datetime(2014, 11, 10, 0, 0), '130': datetime.datetime(2015, 4, 1, 0, 0), '550': datetime.datetime(2015, 5, 28, 0, 0), '44': datetime.datetime(2015, 3, 10, 0, 0), '198': datetime.datetime(2014, 11, 10, 0, 0), '368': datetime.datetime(2014, 11, 10, 0, 0), '440': datetime.datetime(2014, 11, 11, 0, 0), '57': datetime.datetime(2015, 5, 6, 0, 0), '1090': datetime.datetime(2014, 11, 11, 0, 0), '541': datetime.datetime(2014, 11, 12, 0, 0), '756': datetime.datetime(2014, 11, 15, 0, 0), '101': datetime.datetime(2014, 11, 12, 0, 0), '800': datetime.datetime(2015, 3, 4, 0, 0), '702': datetime.datetime(2015, 3, 10, 0, 0), '38': datetime.datetime(2014, 11, 14, 0, 0), '215': datetime.datetime(2014, 11, 14, 0, 0), '744': datetime.datetime(2014, 11, 14, 0, 0), '217': datetime.datetime(2015, 3, 10, 0, 0), '1211': datetime.datetime(2015, 3, 6, 0, 0), '53': datetime.datetime(2015, 5, 11, 0, 0), '283': datetime.datetime(2014, 11, 15, 0, 0), '338': datetime.datetime(2015, 5, 11, 0, 0), '579': datetime.datetime(2014, 11, 15, 0, 0), '627': datetime.datetime(2014, 11, 16, 0, 0), '253': datetime.datetime(2015, 1, 14, 0, 0), '178': datetime.datetime(2014, 11, 17, 0, 0), '822': datetime.datetime(2015, 7, 18, 0, 0), '96': datetime.datetime(2014, 11, 17, 0, 0), '123': datetime.datetime(2015, 3, 10, 0, 0), '620': datetime.datetime(2014, 11, 10, 0, 0), '1204': datetime.datetime(2014, 11, 10, 0, 0), '195': datetime.datetime(2014, 11, 10, 0, 0), '354': datetime.datetime(2014, 11, 10, 0, 0), '114': datetime.datetime(2015, 5, 8, 0, 0), '394': datetime.datetime(2014, 11, 10, 0, 0), '1253': datetime.datetime(2014, 11, 10, 0, 0), '504': datetime.datetime(2014, 11, 10, 0, 0), '537': datetime.datetime(2014, 11, 10, 0, 0), '72': datetime.datetime(2014, 11, 10, 0, 0), '268': datetime.datetime(2015, 4, 3, 0, 0), '339': datetime.datetime(2015, 4, 1, 0, 0), '1244': datetime.datetime(2015, 5, 17, 0, 0), '752': datetime.datetime(2014, 11, 10, 0, 0), '194': datetime.datetime(2014, 11, 10, 0, 0), '520': datetime.datetime(2014, 11, 10, 0, 0), '102': datetime.datetime(2014, 11, 10, 0, 0), '367': datetime.datetime(2014, 11, 11, 0, 0), '258': datetime.datetime(2014, 11, 10, 0, 0), '522': datetime.datetime(2014, 11, 10, 0, 0), '329': datetime.datetime(2015, 4, 8, 0, 0), '225': datetime.datetime(2014, 11, 10, 0, 0), '612': datetime.datetime(2014, 11, 10, 0, 0), '150': datetime.datetime(2014, 11, 10, 0, 0), '179': datetime.datetime(2014, 11, 10, 0, 0), '595': datetime.datetime(2014, 11, 10, 0, 0), '587': datetime.datetime(2015, 5, 28, 0, 0), '439': datetime.datetime(2015, 3, 10, 0, 0), '428': datetime.datetime(2014, 11, 10, 0, 0), '18': datetime.datetime(2014, 11, 10, 0, 0), '544': datetime.datetime(2014, 11, 10, 0, 0), '10': datetime.datetime(2014, 11, 10, 0, 0), '913': datetime.datetime(2015, 1, 14, 0, 0), '23': datetime.datetime(2014, 11, 10, 0, 0), '576': datetime.datetime(2014, 11, 10, 0, 0), '431': datetime.datetime(2014, 11, 10, 0, 0), '223': datetime.datetime(2014, 11, 10, 0, 0), '480': datetime.datetime(2015, 4, 1, 0, 0), '525': datetime.datetime(2014, 11, 10, 0, 0), '1111': datetime.datetime(2015, 4, 1, 0, 0), '1107': datetime.datetime(2014, 11, 11, 0, 0), '577': datetime.datetime(2015, 2, 5, 0, 0), '92': datetime.datetime(2014, 11, 12, 0, 0), '335': datetime.datetime(2014, 11, 12, 0, 0), '275': datetime.datetime(2014, 11, 16, 0, 0), '245': datetime.datetime(2014, 11, 14, 0, 0), '135': datetime.datetime(2014, 11, 14, 0, 0), '37': datetime.datetime(2014, 11, 14, 0, 0), '186': datetime.datetime(2014, 11, 14, 0, 0), '389': datetime.datetime(2014, 11, 15, 0, 0), '693': datetime.datetime(2015, 1, 14, 0, 0), '88': datetime.datetime(2015, 4, 1, 0, 0), '983': datetime.datetime(2015, 1, 14, 0, 0), '1118': datetime.datetime(2014, 11, 17, 0, 0), '499': datetime.datetime(2015, 2, 6, 0, 0), '590': datetime.datetime(2015, 5, 11, 0, 0), '264': datetime.datetime(2015, 2, 3, 0, 0), '300': datetime.datetime(2014, 12, 3, 0, 0), '54': datetime.datetime(2014, 12, 3, 0, 0), '1130': datetime.datetime(2014, 12, 3, 0, 0), '736': datetime.datetime(2014, 12, 4, 0, 0), '976': datetime.datetime(2014, 12, 4, 0, 0), '278': datetime.datetime(2014, 12, 4, 0, 0), '377': datetime.datetime(2014, 12, 5, 0, 0), '342': datetime.datetime(2014, 12, 5, 0, 0), '358': datetime.datetime(2014, 12, 5, 0, 0), '316': datetime.datetime(2014, 12, 6, 0, 0), '347': datetime.datetime(2015, 4, 5, 0, 0), '295': datetime.datetime(2015, 4, 3, 0, 0), '343': datetime.datetime(2014, 12, 7, 0, 0), '502': datetime.datetime(2014, 12, 8, 0, 0), '221': datetime.datetime(2014, 12, 3, 0, 0), '631': datetime.datetime(2015, 5, 8, 0, 0), '495': datetime.datetime(2014, 12, 4, 0, 0), '1009': datetime.datetime(2014, 12, 5, 0, 0), '364': datetime.datetime(2014, 12, 5, 0, 0), '909': datetime.datetime(2014, 12, 5, 0, 0), '524': datetime.datetime(2015, 3, 4, 0, 0), '560': datetime.datetime(2014, 12, 6, 0, 0), '570': datetime.datetime(2014, 12, 7, 0, 0), '581': datetime.datetime(2014, 12, 7, 0, 0), '759': datetime.datetime(2015, 2, 3, 0, 0), '896': datetime.datetime(2015, 4, 8, 0, 0), '346': datetime.datetime(2014, 12, 8, 0, 0), '411': datetime.datetime(2015, 4, 8, 0, 0), '705': datetime.datetime(2015, 4, 8, 0, 0), '776': datetime.datetime(2014, 12, 8, 0, 0), '557': datetime.datetime(2015, 3, 10, 0, 0), '634': datetime.datetime(2014, 12, 9, 0, 0), '1124': datetime.datetime(2015, 4, 8, 0, 0), '932': datetime.datetime(2014, 12, 9, 0, 0), '169': datetime.datetime(2015, 2, 5, 0, 0), '350': datetime.datetime(2015, 1, 7, 0, 0), '345': datetime.datetime(2015, 1, 7, 0, 0), '530': datetime.datetime(2015, 1, 7, 0, 0), '383': datetime.datetime(2015, 1, 7, 0, 0), '229': datetime.datetime(2015, 1, 7, 0, 0), '622': datetime.datetime(2015, 1, 8, 0, 0), '730': datetime.datetime(2015, 1, 8, 0, 0), '905': datetime.datetime(2015, 1, 8, 0, 0), '356': datetime.datetime(2015, 1, 9, 0, 0), '170': datetime.datetime(2015, 1, 9, 0, 0), '467': datetime.datetime(2015, 1, 10, 0, 0), '780': datetime.datetime(2015, 1, 11, 0, 0), '418': datetime.datetime(2015, 1, 11, 0, 0), '1074': datetime.datetime(2015, 3, 10, 0, 0), '859': datetime.datetime(2015, 1, 11, 0, 0), '91': datetime.datetime(2015, 3, 10, 0, 0), '12': datetime.datetime(2014, 11, 10, 0, 0), '3': datetime.datetime(2015, 3, 10, 0, 0), '157': datetime.datetime(2015, 3, 10, 0, 0), '224': datetime.datetime(2014, 11, 10, 0, 0), '562': datetime.datetime(2014, 11, 10, 0, 0), '1098': datetime.datetime(2014, 11, 10, 0, 0), '378': datetime.datetime(2015, 3, 10, 0, 0), '1214': datetime.datetime(2014, 11, 10, 0, 0), '483': datetime.datetime(2014, 11, 10, 0, 0), '1094': datetime.datetime(2014, 11, 10, 0, 0), '882': datetime.datetime(2014, 11, 10, 0, 0), '412': datetime.datetime(2015, 4, 1, 0, 0), '390': datetime.datetime(2014, 11, 10, 0, 0), '366': datetime.datetime(2015, 4, 1, 0, 0), '81': datetime.datetime(2014, 11, 10, 0, 0), '696': datetime.datetime(2014, 11, 10, 0, 0), '1142': datetime.datetime(2015, 3, 10, 0, 0), '234': datetime.datetime(2014, 11, 11, 0, 0), '148': datetime.datetime(2015, 4, 1, 0, 0), '630': datetime.datetime(2014, 11, 11, 0, 0), '1011': datetime.datetime(2015, 4, 8, 0, 0), '161': datetime.datetime(2014, 11, 12, 0, 0), '441': datetime.datetime(2014, 11, 12, 0, 0), '712': datetime.datetime(2014, 11, 13, 0, 0), '273': datetime.datetime(2014, 11, 14, 0, 0), '76': datetime.datetime(2015, 1, 15, 0, 0), '938': datetime.datetime(2014, 11, 14, 0, 0), '131': datetime.datetime(2014, 11, 14, 0, 0), '231': datetime.datetime(2014, 11, 14, 0, 0), '327': datetime.datetime(2014, 11, 14, 0, 0), '829': datetime.datetime(2014, 11, 15, 0, 0), '203': datetime.datetime(2015, 5, 12, 0, 0), '277': datetime.datetime(2014, 11, 15, 0, 0), '280': datetime.datetime(2014, 11, 15, 0, 0), '308': datetime.datetime(2014, 11, 16, 0, 0), '202': datetime.datetime(2014, 12, 3, 0, 0), '563': datetime.datetime(2014, 12, 3, 0, 0), '1167': datetime.datetime(2014, 12, 3, 0, 0), '643': datetime.datetime(2015, 4, 18, 0, 0), '110': datetime.datetime(2014, 12, 3, 0, 0), '244': datetime.datetime(2014, 12, 4, 0, 0), '1289': datetime.datetime(2014, 12, 4, 0, 0), '500': datetime.datetime(2015, 2, 3, 0, 0), '209': datetime.datetime(2014, 12, 5, 0, 0), '292': datetime.datetime(2014, 12, 5, 0, 0), '546': datetime.datetime(2014, 12, 5, 0, 0), '1160': datetime.datetime(2014, 12, 5, 0, 0), '64': datetime.datetime(2014, 12, 6, 0, 0), '637': datetime.datetime(2015, 5, 6, 0, 0), '52': datetime.datetime(2014, 12, 7, 0, 0), '747': datetime.datetime(2015, 4, 2, 0, 0), '450': datetime.datetime(2014, 12, 7, 0, 0), '111': datetime.datetime(2014, 12, 7, 0, 0), '583': datetime.datetime(2014, 12, 8, 0, 0), '461': datetime.datetime(2014, 12, 8, 0, 0), '1199': datetime.datetime(2014, 12, 8, 0, 0), '743': datetime.datetime(2014, 12, 9, 0, 0), '474': datetime.datetime(2014, 12, 9, 0, 0), '667': datetime.datetime(2014, 12, 9, 0, 0), '1095': datetime.datetime(2015, 6, 6, 0, 0), '79': datetime.datetime(2014, 12, 9, 0, 0), '66': datetime.datetime(2015, 1, 7, 0, 0), '197': datetime.datetime(2015, 1, 7, 0, 0), '67': datetime.datetime(2015, 1, 7, 0, 0), '678': datetime.datetime(2015, 1, 8, 0, 0), '873': datetime.datetime(2015, 1, 8, 0, 0), '623': datetime.datetime(2015, 1, 8, 0, 0), '791': datetime.datetime(2015, 1, 8, 0, 0), '507': datetime.datetime(2015, 3, 10, 0, 0), '488': datetime.datetime(2015, 1, 9, 0, 0), '270': datetime.datetime(2015, 1, 9, 0, 0), '362': datetime.datetime(2015, 2, 5, 0, 0), '263': datetime.datetime(2015, 8, 12, 0, 0), '965': datetime.datetime(2015, 1, 10, 0, 0), '761': datetime.datetime(2015, 1, 11, 0, 0), '598': datetime.datetime(2015, 1, 12, 0, 0), '785': datetime.datetime(2015, 4, 8, 0, 0), '989': datetime.datetime(2015, 4, 8, 0, 0), '28': datetime.datetime(2015, 1, 12, 0, 0), '166': datetime.datetime(2014, 12, 8, 0, 0), '682': datetime.datetime(2015, 4, 8, 0, 0), '671': datetime.datetime(2014, 12, 9, 0, 0), '1121': datetime.datetime(2015, 1, 12, 0, 0), '966': datetime.datetime(2015, 3, 10, 0, 0), '442': datetime.datetime(2015, 5, 14, 0, 0), '5': datetime.datetime(2015, 1, 7, 0, 0), '592': datetime.datetime(2015, 1, 7, 0, 0), '34': datetime.datetime(2015, 2, 3, 0, 0), '824': datetime.datetime(2015, 2, 10, 0, 0), '0': datetime.datetime(2015, 1, 9, 0, 0), '527': datetime.datetime(2015, 1, 9, 0, 0), '1304': datetime.datetime(2015, 3, 10, 0, 0), '1060': datetime.datetime(2015, 1, 11, 0, 0), '227': datetime.datetime(2015, 4, 8, 0, 0), '599': datetime.datetime(2015, 4, 2, 0, 0), '181': datetime.datetime(2015, 3, 10, 0, 0), '639': datetime.datetime(2014, 11, 13, 0, 0), '126': datetime.datetime(2014, 11, 14, 0, 0), '254': datetime.datetime(2014, 11, 14, 0, 0), '1303': datetime.datetime(2015, 4, 8, 0, 0), '969': datetime.datetime(2014, 11, 14, 0, 0), '972': datetime.datetime(2015, 3, 10, 0, 0), '334': datetime.datetime(2015, 3, 10, 0, 0), '469': datetime.datetime(2014, 11, 16, 0, 0), '33': datetime.datetime(2015, 1, 12, 0, 0), '250': datetime.datetime(2015, 1, 12, 0, 0), '486': datetime.datetime(2015, 1, 12, 0, 0), '567': datetime.datetime(2015, 1, 12, 0, 0), '371': datetime.datetime(2015, 1, 13, 0, 0), '1277': datetime.datetime(2015, 1, 14, 0, 0), '1071': datetime.datetime(2015, 1, 14, 0, 0), '923': datetime.datetime(2015, 3, 10, 0, 0), '640': datetime.datetime(2015, 4, 1, 0, 0), '1174': datetime.datetime(2015, 2, 3, 0, 0), '1019': datetime.datetime(2014, 11, 11, 0, 0), '655': datetime.datetime(2014, 11, 10, 0, 0), '529': datetime.datetime(2015, 2, 3, 0, 0), '222': datetime.datetime(2014, 11, 17, 0, 0), '256': datetime.datetime(2015, 4, 1, 0, 0), '288': datetime.datetime(2014, 12, 3, 0, 0), '523': datetime.datetime(2015, 3, 10, 0, 0), '24': datetime.datetime(2014, 12, 3, 0, 0), '397': datetime.datetime(2015, 4, 1, 0, 0), '265': datetime.datetime(2014, 12, 4, 0, 0), '650': datetime.datetime(2015, 3, 4, 0, 0), '1013': datetime.datetime(2015, 4, 1, 0, 0), '618': datetime.datetime(2014, 12, 5, 0, 0), '1236': datetime.datetime(2014, 12, 5, 0, 0), '1181': datetime.datetime(2014, 12, 5, 0, 0), '866': datetime.datetime(2014, 12, 7, 0, 0), '1201': datetime.datetime(2014, 12, 7, 0, 0), '193': datetime.datetime(2015, 4, 1, 0, 0), '710': datetime.datetime(2015, 2, 3, 0, 0), '180': datetime.datetime(2015, 4, 8, 0, 0), '722': datetime.datetime(2015, 3, 10, 0, 0), '125': datetime.datetime(2015, 1, 13, 0, 0), '954': datetime.datetime(2015, 3, 10, 0, 0), '140': datetime.datetime(2015, 1, 14, 0, 0), '1139': datetime.datetime(2015, 1, 16, 0, 0), '388': datetime.datetime(2015, 2, 3, 0, 0), '147': datetime.datetime(2015, 2, 3, 0, 0), '119': datetime.datetime(2015, 4, 8, 0, 0), '97': datetime.datetime(2015, 4, 8, 0, 0), '984': datetime.datetime(2015, 8, 13, 0, 0), '444': datetime.datetime(2015, 4, 8, 0, 0), '493': datetime.datetime(2015, 2, 5, 0, 0), '435': datetime.datetime(2015, 2, 6, 0, 0), '386': datetime.datetime(2015, 4, 8, 0, 0), '156': datetime.datetime(2014, 11, 10, 0, 0), '649': datetime.datetime(2014, 11, 10, 0, 0), '145': datetime.datetime(2014, 11, 10, 0, 0), '420': datetime.datetime(2014, 11, 10, 0, 0), '582': datetime.datetime(2014, 11, 10, 0, 0), '165': datetime.datetime(2014, 11, 10, 0, 0), '580': datetime.datetime(2014, 11, 10, 0, 0), '919': datetime.datetime(2014, 11, 10, 0, 0), '90': datetime.datetime(2015, 4, 1, 0, 0), '312': datetime.datetime(2015, 7, 8, 0, 0), '864': datetime.datetime(2014, 11, 10, 0, 0), '328': datetime.datetime(2014, 11, 10, 0, 0), '626': datetime.datetime(2015, 3, 4, 0, 0), '1117': datetime.datetime(2014, 11, 11, 0, 0), '187': datetime.datetime(2014, 11, 12, 0, 0), '617': datetime.datetime(2014, 11, 12, 0, 0), '547': datetime.datetime(2015, 2, 3, 0, 0), '159': datetime.datetime(2015, 2, 12, 0, 0), '561': datetime.datetime(2015, 2, 5, 0, 0), '1226': datetime.datetime(2015, 4, 8, 0, 0), '352': datetime.datetime(2015, 2, 5, 0, 0), '374': datetime.datetime(2015, 2, 6, 0, 0), '857': datetime.datetime(2015, 4, 8, 0, 0), '143': datetime.datetime(2015, 2, 9, 0, 0), '138': datetime.datetime(2015, 4, 8, 0, 0), '952': datetime.datetime(2015, 2, 11, 0, 0), '416': datetime.datetime(2015, 4, 8, 0, 0), '477': datetime.datetime(2015, 3, 4, 0, 0), '132': datetime.datetime(2015, 3, 4, 0, 0), '624': datetime.datetime(2015, 3, 4, 0, 0), '50': datetime.datetime(2015, 3, 4, 0, 0), '1247': datetime.datetime(2015, 3, 5, 0, 0), '607': datetime.datetime(2015, 3, 5, 0, 0), '251': datetime.datetime(2015, 4, 8, 0, 0), '709': datetime.datetime(2015, 2, 8, 0, 0), '564': datetime.datetime(2015, 4, 8, 0, 0), '70': datetime.datetime(2015, 2, 9, 0, 0), '792': datetime.datetime(2015, 2, 9, 0, 0), '494': datetime.datetime(2015, 2, 9, 0, 0), '833': datetime.datetime(2015, 2, 9, 0, 0), '603': datetime.datetime(2015, 2, 9, 0, 0), '307': datetime.datetime(2015, 2, 10, 0, 0), '337': datetime.datetime(2015, 2, 10, 0, 0), '823': datetime.datetime(2015, 4, 8, 0, 0), '30': datetime.datetime(2015, 2, 10, 0, 0), '82': datetime.datetime(2015, 3, 5, 0, 0), '348': datetime.datetime(2015, 3, 5, 0, 0), '139': datetime.datetime(2015, 3, 6, 0, 0), '185': datetime.datetime(2015, 4, 1, 0, 0), '281': datetime.datetime(2014, 11, 14, 0, 0), '855': datetime.datetime(2014, 11, 14, 0, 0), '191': datetime.datetime(2015, 3, 10, 0, 0), '261': datetime.datetime(2014, 11, 16, 0, 0), '415': datetime.datetime(2015, 3, 10, 0, 0), '868': datetime.datetime(2014, 11, 16, 0, 0), '719': datetime.datetime(2014, 11, 17, 0, 0), '836': datetime.datetime(2015, 7, 16, 0, 0), '319': datetime.datetime(2014, 12, 30, 0, 0), '108': datetime.datetime(2015, 4, 20, 0, 0), '285': datetime.datetime(2015, 3, 10, 0, 0), '71': datetime.datetime(2015, 4, 7, 0, 0), '1073': datetime.datetime(2015, 1, 7, 0, 0), '421': datetime.datetime(2015, 1, 8, 0, 0), '698': datetime.datetime(2015, 1, 8, 0, 0), '9': datetime.datetime(2015, 1, 8, 0, 0), '144': datetime.datetime(2015, 3, 6, 0, 0), '427': datetime.datetime(2015, 1, 9, 0, 0), '1212': datetime.datetime(2015, 7, 19, 0, 0), '1140': datetime.datetime(2015, 1, 10, 0, 0), '344': datetime.datetime(2015, 1, 11, 0, 0), '517': datetime.datetime(2015, 3, 6, 0, 0), '505': datetime.datetime(2015, 3, 7, 0, 0), '171': datetime.datetime(2015, 3, 8, 0, 0), '586': datetime.datetime(2015, 3, 10, 0, 0), '492': datetime.datetime(2015, 3, 10, 0, 0), '1102': datetime.datetime(2015, 4, 8, 0, 0), '1287': datetime.datetime(2015, 3, 10, 0, 0), '1254': datetime.datetime(2015, 1, 10, 0, 0), '1259': datetime.datetime(2015, 3, 10, 0, 0), '1128': datetime.datetime(2015, 3, 11, 0, 0), '149': datetime.datetime(2015, 3, 11, 0, 0), '78': datetime.datetime(2015, 4, 1, 0, 0), '558': datetime.datetime(2015, 4, 1, 0, 0), '153': datetime.datetime(2015, 4, 1, 0, 0), '473': datetime.datetime(2015, 4, 1, 0, 0), '246': datetime.datetime(2015, 4, 1, 0, 0), '455': datetime.datetime(2015, 4, 1, 0, 0), '106': datetime.datetime(2015, 3, 10, 0, 0), '74': datetime.datetime(2015, 4, 1, 0, 0), '591': datetime.datetime(2015, 4, 1, 0, 0), '419': datetime.datetime(2015, 3, 10, 0, 0), '31': datetime.datetime(2015, 3, 10, 0, 0), '69': datetime.datetime(2015, 3, 10, 0, 0), '906': datetime.datetime(2015, 3, 10, 0, 0), '601': datetime.datetime(2015, 3, 10, 0, 0), '321': datetime.datetime(2015, 7, 9, 0, 0), '99': datetime.datetime(2015, 3, 10, 0, 0), '1103': datetime.datetime(2015, 3, 10, 0, 0), '1066': datetime.datetime(2015, 3, 10, 0, 0), '571': datetime.datetime(2015, 4, 1, 0, 0), '426': datetime.datetime(2015, 5, 7, 0, 0), '1267': datetime.datetime(2015, 4, 2, 0, 0), '392': datetime.datetime(2015, 4, 2, 0, 0), '98': datetime.datetime(2015, 4, 2, 0, 0), '578': datetime.datetime(2015, 4, 2, 0, 0), '86': datetime.datetime(2015, 4, 2, 0, 0), '158': datetime.datetime(2015, 4, 4, 0, 0), '757': datetime.datetime(2015, 1, 11, 0, 0), '151': datetime.datetime(2015, 1, 11, 0, 0), '642': datetime.datetime(2015, 1, 11, 0, 0), '534': datetime.datetime(2015, 1, 12, 0, 0), '214': datetime.datetime(2015, 1, 12, 0, 0), '597': datetime.datetime(2015, 1, 12, 0, 0), '1242': datetime.datetime(2015, 3, 10, 0, 0), '732': datetime.datetime(2015, 1, 12, 0, 0), '168': datetime.datetime(2015, 4, 8, 0, 0), '657': datetime.datetime(2015, 3, 10, 0, 0), '152': datetime.datetime(2014, 11, 17, 0, 0), '539': datetime.datetime(2014, 12, 3, 0, 0), '831': datetime.datetime(2014, 12, 3, 0, 0), '1015': datetime.datetime(2014, 12, 3, 0, 0), '1251': datetime.datetime(2014, 12, 5, 0, 0), '613': datetime.datetime(2014, 12, 5, 0, 0), '611': datetime.datetime(2014, 12, 8, 0, 0), '453': datetime.datetime(2014, 12, 8, 0, 0), '62': datetime.datetime(2014, 12, 8, 0, 0), '380': datetime.datetime(2014, 12, 8, 0, 0), '697': datetime.datetime(2014, 12, 8, 0, 0), '43': datetime.datetime(2014, 12, 8, 0, 0), '451': datetime.datetime(2015, 4, 1, 0, 0), '625': datetime.datetime(2015, 4, 2, 0, 0), '769': datetime.datetime(2015, 4, 3, 0, 0), '1123': datetime.datetime(2015, 4, 3, 0, 0), '1154': datetime.datetime(2015, 4, 5, 0, 0), '853': datetime.datetime(2015, 7, 17, 0, 0), '918': datetime.datetime(2015, 4, 6, 0, 0), '1248': datetime.datetime(2015, 4, 6, 0, 0), '1189': datetime.datetime(2015, 4, 7, 0, 0), '1285': datetime.datetime(2015, 4, 7, 0, 0), '844': datetime.datetime(2015, 4, 7, 0, 0), '690': datetime.datetime(2015, 4, 8, 0, 0), '424': datetime.datetime(2015, 4, 6, 0, 0), '379': datetime.datetime(2015, 4, 7, 0, 0), '641': datetime.datetime(2015, 4, 7, 0, 0), '404': datetime.datetime(2015, 4, 8, 0, 0), '105': datetime.datetime(2015, 4, 7, 0, 0), '395': datetime.datetime(2015, 4, 8, 0, 0), '1299': datetime.datetime(2015, 4, 8, 0, 0), '589': datetime.datetime(2015, 4, 8, 0, 0), '793': datetime.datetime(2015, 4, 8, 0, 0), '433': datetime.datetime(2015, 4, 8, 0, 0), '243': datetime.datetime(2014, 11, 16, 0, 0), '555': datetime.datetime(2015, 4, 9, 0, 0), '676': datetime.datetime(2015, 4, 13, 0, 0), '127': datetime.datetime(2015, 4, 24, 0, 0), '201': datetime.datetime(2015, 4, 24, 0, 0), '396': datetime.datetime(2015, 4, 24, 0, 0), '267': datetime.datetime(2015, 4, 24, 0, 0), '240': datetime.datetime(2015, 4, 24, 0, 0), '647': datetime.datetime(2015, 5, 6, 0, 0), '1163': datetime.datetime(2015, 5, 6, 0, 0), '948': datetime.datetime(2015, 5, 6, 0, 0), '1202': datetime.datetime(2015, 5, 7, 0, 0), '559': datetime.datetime(2015, 5, 7, 0, 0), '476': datetime.datetime(2015, 5, 8, 0, 0), '867': datetime.datetime(2014, 12, 9, 0, 0), '516': datetime.datetime(2015, 5, 11, 0, 0), '1292': datetime.datetime(2015, 1, 7, 0, 0), '77': datetime.datetime(2015, 1, 7, 0, 0), '56': datetime.datetime(2015, 1, 7, 0, 0), '93': datetime.datetime(2015, 1, 7, 0, 0), '207': datetime.datetime(2015, 1, 7, 0, 0), '103': datetime.datetime(2015, 1, 7, 0, 0), '460': datetime.datetime(2015, 5, 7, 0, 0), '610': datetime.datetime(2015, 1, 7, 0, 0), '446': datetime.datetime(2015, 1, 7, 0, 0), '232': datetime.datetime(2015, 1, 8, 0, 0), '670': datetime.datetime(2015, 1, 8, 0, 0), '515': datetime.datetime(2015, 1, 8, 0, 0), '59': datetime.datetime(2015, 1, 10, 0, 0), '900': datetime.datetime(2015, 5, 11, 0, 0), '1053': datetime.datetime(2015, 1, 11, 0, 0), '357': datetime.datetime(2015, 1, 11, 0, 0), '934': datetime.datetime(2015, 1, 11, 0, 0), '746': datetime.datetime(2015, 2, 5, 0, 0), '279': datetime.datetime(2015, 4, 8, 0, 0), '136': datetime.datetime(2015, 4, 8, 0, 0), '1042': datetime.datetime(2015, 5, 28, 0, 0), '413': datetime.datetime(2015, 2, 6, 0, 0), '306': datetime.datetime(2015, 4, 8, 0, 0), '436': datetime.datetime(2015, 2, 8, 0, 0), '35': datetime.datetime(2015, 2, 8, 0, 0), '463': datetime.datetime(2015, 2, 9, 0, 0), '284': datetime.datetime(2015, 4, 8, 0, 0), '521': datetime.datetime(2015, 4, 8, 0, 0), '1049': datetime.datetime(2015, 2, 10, 0, 0), '1198': datetime.datetime(2015, 3, 4, 0, 0), '720': datetime.datetime(2015, 3, 4, 0, 0), '239': datetime.datetime(2015, 3, 4, 0, 0), '958': datetime.datetime(2015, 3, 4, 0, 0), '718': datetime.datetime(2015, 5, 8, 0, 0), '475': datetime.datetime(2015, 5, 9, 0, 0), '276': datetime.datetime(2015, 5, 10, 0, 0), '608': datetime.datetime(2015, 5, 10, 0, 0), '293': datetime.datetime(2015, 5, 10, 0, 0), '341': datetime.datetime(2015, 5, 10, 0, 0), '501': datetime.datetime(2015, 5, 11, 0, 0), '858': datetime.datetime(2015, 5, 12, 0, 0), '713': datetime.datetime(2015, 5, 12, 0, 0), '1040': datetime.datetime(2015, 5, 12, 0, 0), '1305': datetime.datetime(2015, 5, 12, 0, 0), '25': datetime.datetime(2015, 5, 12, 0, 0), '674': datetime.datetime(2015, 5, 12, 0, 0), '988': datetime.datetime(2015, 5, 13, 0, 0), '771': datetime.datetime(2015, 5, 13, 0, 0), '877': datetime.datetime(2015, 5, 13, 0, 0), '63': datetime.datetime(2015, 5, 28, 0, 0), '481': datetime.datetime(2015, 5, 28, 0, 0), '42': datetime.datetime(2015, 5, 30, 0, 0), '939': datetime.datetime(2015, 4, 24, 0, 0), '11': datetime.datetime(2015, 4, 24, 0, 0), '262': datetime.datetime(2015, 4, 24, 0, 0), '167': datetime.datetime(2015, 4, 24, 0, 0), '302': datetime.datetime(2015, 4, 24, 0, 0), '551': datetime.datetime(2015, 4, 24, 0, 0), '609': datetime.datetime(2015, 4, 24, 0, 0), '109': datetime.datetime(2015, 5, 6, 0, 0), '211': datetime.datetime(2015, 5, 6, 0, 0), '274': datetime.datetime(2015, 5, 6, 0, 0), '704': datetime.datetime(2015, 5, 6, 0, 0), '407': datetime.datetime(2015, 5, 6, 0, 0), '360': datetime.datetime(2015, 5, 6, 0, 0), '540': datetime.datetime(2015, 5, 8, 0, 0), '1173': datetime.datetime(2015, 5, 8, 0, 0), '112': datetime.datetime(2015, 5, 8, 0, 0), '479': datetime.datetime(2015, 5, 9, 0, 0), '237': datetime.datetime(2015, 5, 10, 0, 0), '487': datetime.datetime(2015, 5, 10, 0, 0), '304': datetime.datetime(2015, 5, 10, 0, 0), '330': datetime.datetime(2015, 5, 10, 0, 0), '1250': datetime.datetime(2015, 5, 11, 0, 0), '27': datetime.datetime(2015, 5, 11, 0, 0), '260': datetime.datetime(2015, 5, 11, 0, 0), '511': datetime.datetime(2015, 5, 11, 0, 0), '1029': datetime.datetime(2015, 5, 12, 0, 0), '399': datetime.datetime(2015, 5, 12, 0, 0), '977': datetime.datetime(2015, 5, 12, 0, 0), '556': datetime.datetime(2015, 5, 12, 0, 0), '1265': datetime.datetime(2015, 5, 12, 0, 0), '252': datetime.datetime(2015, 5, 12, 0, 0), '100': datetime.datetime(2015, 2, 5, 0, 0), '313': datetime.datetime(2015, 2, 5, 0, 0), '465': datetime.datetime(2015, 2, 5, 0, 0), '615': datetime.datetime(2015, 3, 5, 0, 0), '372': datetime.datetime(2015, 3, 6, 0, 0), '614': datetime.datetime(2015, 3, 6, 0, 0), '208': datetime.datetime(2015, 3, 8, 0, 0), '652': datetime.datetime(2015, 3, 10, 0, 0), '1260': datetime.datetime(2015, 3, 11, 0, 0), '1194': datetime.datetime(2015, 3, 11, 0, 0), '361': datetime.datetime(2015, 5, 13, 0, 0), '1185': datetime.datetime(2015, 5, 13, 0, 0), '490': datetime.datetime(2015, 5, 13, 0, 0), '365': datetime.datetime(2015, 5, 13, 0, 0), '220': datetime.datetime(2015, 5, 29, 0, 0), '124': datetime.datetime(2015, 5, 31, 0, 0), '496': datetime.datetime(2015, 6, 3, 0, 0), '405': datetime.datetime(2015, 6, 4, 0, 0), '452': datetime.datetime(2015, 6, 4, 0, 0), '318': datetime.datetime(2015, 6, 5, 0, 0), '266': datetime.datetime(2015, 6, 6, 0, 0), '219': datetime.datetime(2015, 6, 6, 0, 0), '83': datetime.datetime(2015, 6, 6, 0, 0), '1266': datetime.datetime(2015, 6, 7, 0, 0), '121': datetime.datetime(2015, 6, 7, 0, 0), '459': datetime.datetime(2015, 6, 8, 0, 0), '735': datetime.datetime(2015, 4, 14, 0, 0), '1032': datetime.datetime(2015, 6, 8, 0, 0), '128': datetime.datetime(2015, 6, 8, 0, 0), '1031': datetime.datetime(2015, 6, 9, 0, 0), '673': datetime.datetime(2015, 6, 1, 0, 0), '843': datetime.datetime(2015, 6, 2, 0, 0), '216': datetime.datetime(2015, 6, 2, 0, 0), '554': datetime.datetime(2015, 6, 7, 0, 0), '1183': datetime.datetime(2015, 7, 17, 0, 0), '133': datetime.datetime(2015, 6, 8, 0, 0), '887': datetime.datetime(2015, 6, 8, 0, 0), '248': datetime.datetime(2015, 6, 9, 0, 0), '629': datetime.datetime(2015, 6, 9, 0, 0), '478': datetime.datetime(2015, 6, 9, 0, 0), '804': datetime.datetime(2015, 6, 9, 0, 0), '1096': datetime.datetime(2015, 7, 15, 0, 0), '163': datetime.datetime(2015, 7, 9, 0, 0), '1208': datetime.datetime(2015, 2, 5, 0, 0), '1207': datetime.datetime(2015, 2, 6, 0, 0), '602': datetime.datetime(2015, 2, 6, 0, 0), '1153': datetime.datetime(2015, 2, 6, 0, 0), '605': datetime.datetime(2015, 2, 6, 0, 0), '1210': datetime.datetime(2015, 2, 7, 0, 0), '916': datetime.datetime(2015, 2, 8, 0, 0), '381': datetime.datetime(2015, 2, 9, 0, 0), '666': datetime.datetime(2015, 2, 9, 0, 0), '26': datetime.datetime(2015, 2, 11, 0, 0), '508': datetime.datetime(2015, 3, 4, 0, 0), '509': datetime.datetime(2015, 3, 5, 0, 0), '753': datetime.datetime(2015, 3, 5, 0, 0), '141': datetime.datetime(2015, 3, 7, 0, 0), '432': datetime.datetime(2015, 3, 9, 0, 0), '375': datetime.datetime(2015, 3, 9, 0, 0), '183': datetime.datetime(2015, 4, 1, 0, 0), '400': datetime.datetime(2015, 4, 1, 0, 0), '585': datetime.datetime(2015, 4, 1, 0, 0), '13': datetime.datetime(2015, 4, 1, 0, 0), '205': datetime.datetime(2015, 4, 1, 0, 0), '593': datetime.datetime(2015, 4, 2, 0, 0), '437': datetime.datetime(2015, 4, 2, 0, 0), '468': datetime.datetime(2015, 4, 2, 0, 0), '729': datetime.datetime(2015, 4, 3, 0, 0), '22': datetime.datetime(2015, 4, 3, 0, 0), '449': datetime.datetime(2015, 4, 3, 0, 0), '482': datetime.datetime(2015, 4, 3, 0, 0), '349': datetime.datetime(2015, 4, 3, 0, 0), '1089': datetime.datetime(2015, 4, 6, 0, 0), '651': datetime.datetime(2015, 4, 6, 0, 0), '1054': datetime.datetime(2015, 4, 7, 0, 0), '289': datetime.datetime(2015, 4, 7, 0, 0), '796': datetime.datetime(2015, 4, 7, 0, 0), '104': datetime.datetime(2015, 4, 10, 0, 0), '286': datetime.datetime(2015, 7, 8, 0, 0), '812': datetime.datetime(2015, 7, 9, 0, 0), '462': datetime.datetime(2015, 7, 9, 0, 0), '1001': datetime.datetime(2015, 7, 9, 0, 0), '213': datetime.datetime(2015, 7, 14, 0, 0), '359': datetime.datetime(2015, 7, 15, 0, 0), '21': datetime.datetime(2015, 7, 17, 0, 0), '633': datetime.datetime(2015, 7, 17, 0, 0), '1205': datetime.datetime(2015, 7, 17, 0, 0), '1014': datetime.datetime(2015, 7, 18, 0, 0), '40': datetime.datetime(2015, 7, 15, 0, 0), '1216': datetime.datetime(2015, 7, 16, 0, 0), '1131': datetime.datetime(2015, 7, 16, 0, 0), '1150': datetime.datetime(2015, 7, 16, 0, 0), '403': datetime.datetime(2015, 7, 16, 0, 0), '773': datetime.datetime(2015, 7, 17, 0, 0), '856': datetime.datetime(2015, 7, 18, 0, 0), '305': datetime.datetime(2015, 3, 10, 0, 0), '485': datetime.datetime(2015, 3, 10, 0, 0), '464': datetime.datetime(2015, 4, 1, 0, 0), '340': datetime.datetime(2015, 4, 1, 0, 0), '75': datetime.datetime(2015, 4, 1, 0, 0), '786': datetime.datetime(2015, 4, 2, 0, 0), '1072': datetime.datetime(2015, 4, 2, 0, 0), '588': datetime.datetime(2015, 4, 2, 0, 0), '291': datetime.datetime(2015, 4, 2, 0, 0), '1264': datetime.datetime(2015, 4, 2, 0, 0), '1088': datetime.datetime(2015, 4, 3, 0, 0), '536': datetime.datetime(2015, 4, 24, 0, 0), '107': datetime.datetime(2015, 4, 24, 0, 0), '353': datetime.datetime(2015, 4, 24, 0, 0), '146': datetime.datetime(2015, 4, 24, 0, 0), '466': datetime.datetime(2015, 5, 6, 0, 0), '811': datetime.datetime(2015, 5, 6, 0, 0), '825': datetime.datetime(2015, 5, 9, 0, 0), '484': datetime.datetime(2015, 5, 7, 0, 0), '1055': datetime.datetime(2015, 5, 8, 0, 0), '192': datetime.datetime(2015, 5, 9, 0, 0), '398': datetime.datetime(2015, 5, 11, 0, 0), '1215': datetime.datetime(2015, 5, 11, 0, 0), '20': datetime.datetime(2015, 5, 11, 0, 0), '1030': datetime.datetime(2015, 5, 11, 0, 0), '955': datetime.datetime(2015, 5, 11, 0, 0), '200': datetime.datetime(2015, 5, 12, 0, 0), '665': datetime.datetime(2015, 5, 12, 0, 0), '1263': datetime.datetime(2015, 8, 16, 0, 0), '1136': datetime.datetime(2015, 8, 18, 0, 0), '1144': datetime.datetime(2015, 8, 18, 0, 0), '142': datetime.datetime(2015, 8, 19, 0, 0), '1228': datetime.datetime(2015, 8, 19, 0, 0), '967': datetime.datetime(2015, 8, 21, 0, 0), '754': datetime.datetime(2015, 8, 21, 0, 0), '851': datetime.datetime(2015, 8, 22, 0, 0), '990': datetime.datetime(2015, 8, 23, 0, 0), '950': datetime.datetime(2015, 7, 19, 0, 0), '1087': datetime.datetime(2015, 7, 20, 0, 0), '940': datetime.datetime(2015, 8, 13, 0, 0), '986': datetime.datetime(2015, 8, 15, 0, 0), '784': datetime.datetime(2015, 8, 17, 0, 0), '893': datetime.datetime(2015, 8, 18, 0, 0), '840': datetime.datetime(2015, 8, 21, 0, 0), '975': datetime.datetime(2015, 8, 23, 0, 0), '1038': datetime.datetime(2015, 4, 4, 0, 0), '1170': datetime.datetime(2015, 4, 5, 0, 0), '1268': datetime.datetime(2015, 4, 6, 0, 0), '706': datetime.datetime(2015, 4, 7, 0, 0), '632': datetime.datetime(2015, 4, 7, 0, 0), '606': datetime.datetime(2015, 4, 8, 0, 0), '117': datetime.datetime(2015, 4, 8, 0, 0), '94': datetime.datetime(2015, 4, 24, 0, 0), '299': datetime.datetime(2015, 4, 24, 0, 0), '574': datetime.datetime(2015, 4, 24, 0, 0), '212': datetime.datetime(2015, 4, 24, 0, 0), '401': datetime.datetime(2015, 4, 24, 0, 0), '387': datetime.datetime(2015, 4, 24, 0, 0), '1113': datetime.datetime(2015, 5, 6, 0, 0), '382': datetime.datetime(2015, 5, 6, 0, 0), '8': datetime.datetime(2015, 5, 6, 0, 0), '1': datetime.datetime(2015, 5, 6, 0, 0), '184': datetime.datetime(2015, 5, 12, 0, 0), '61': datetime.datetime(2015, 5, 12, 0, 0), '669': datetime.datetime(2015, 5, 12, 0, 0), '596': datetime.datetime(2015, 5, 12, 0, 0), '7': datetime.datetime(2015, 5, 12, 0, 0), '41': datetime.datetime(2015, 5, 13, 0, 0), '513': datetime.datetime(2015, 5, 28, 0, 0), '545': datetime.datetime(2015, 5, 28, 0, 0), '572': datetime.datetime(2015, 5, 28, 0, 0), '199': datetime.datetime(2015, 5, 30, 0, 0), '569': datetime.datetime(2015, 6, 2, 0, 0), '14': datetime.datetime(2015, 6, 3, 0, 0), '646': datetime.datetime(2015, 6, 4, 0, 0), '6': datetime.datetime(2015, 6, 5, 0, 0), '619': datetime.datetime(2015, 6, 6, 0, 0), '912': datetime.datetime(2015, 6, 6, 0, 0), '456': datetime.datetime(2015, 6, 7, 0, 0), '80': datetime.datetime(2015, 6, 7, 0, 0), '116': datetime.datetime(2015, 5, 6, 0, 0), '89': datetime.datetime(2015, 5, 7, 0, 0), '471': datetime.datetime(2015, 5, 7, 0, 0), '1002': datetime.datetime(2015, 5, 7, 0, 0), '154': datetime.datetime(2015, 5, 9, 0, 0), '58': datetime.datetime(2015, 5, 9, 0, 0), '406': datetime.datetime(2015, 5, 10, 0, 0), '1062': datetime.datetime(2015, 5, 10, 0, 0), '1282': datetime.datetime(2015, 5, 10, 0, 0), '162': datetime.datetime(2015, 5, 11, 0, 0), '242': datetime.datetime(2015, 5, 11, 0, 0), '235': datetime.datetime(2015, 5, 11, 0, 0), '928': datetime.datetime(2015, 5, 11, 0, 0), '1151': datetime.datetime(2015, 5, 11, 0, 0), '249': datetime.datetime(2015, 5, 12, 0, 0), '621': datetime.datetime(2015, 5, 12, 0, 0), '656': datetime.datetime(2015, 5, 12, 0, 0), '497': datetime.datetime(2015, 5, 12, 0, 0), '73': datetime.datetime(2015, 5, 28, 0, 0), '290': datetime.datetime(2015, 5, 30, 0, 0), '1290': datetime.datetime(2015, 6, 2, 0, 0), '294': datetime.datetime(2015, 6, 4, 0, 0), '573': datetime.datetime(2015, 6, 7, 0, 0), '1081': datetime.datetime(2015, 6, 8, 0, 0), '956': datetime.datetime(2015, 6, 8, 0, 0), '1036': datetime.datetime(2015, 6, 9, 0, 0), '271': datetime.datetime(2015, 7, 8, 0, 0), '317': datetime.datetime(2015, 7, 9, 0, 0), '1257': datetime.datetime(2015, 7, 9, 0, 0), '326': datetime.datetime(2015, 7, 9, 0, 0), '748': datetime.datetime(2015, 6, 8, 0, 0), '777': datetime.datetime(2015, 6, 8, 0, 0), '296': datetime.datetime(2015, 6, 8, 0, 0), '628': datetime.datetime(2015, 6, 9, 0, 0), '1262': datetime.datetime(2015, 6, 9, 0, 0), '531': datetime.datetime(2015, 7, 8, 0, 0), '1209': datetime.datetime(2015, 7, 9, 0, 0), '498': datetime.datetime(2015, 7, 9, 0, 0), '430': datetime.datetime(2015, 7, 10, 0, 0), '694': datetime.datetime(2015, 7, 10, 0, 0), '238': datetime.datetime(2015, 7, 13, 0, 0), '48': datetime.datetime(2015, 7, 16, 0, 0), '47': datetime.datetime(2015, 7, 16, 0, 0), '29': datetime.datetime(2015, 7, 16, 0, 0), '885': datetime.datetime(2015, 7, 16, 0, 0), '164': datetime.datetime(2015, 7, 16, 0, 0), '1080': datetime.datetime(2015, 7, 17, 0, 0), '402': datetime.datetime(2015, 3, 10, 0, 0), '15': datetime.datetime(2015, 3, 4, 0, 0), '87': datetime.datetime(2015, 1, 12, 0, 0), '134': datetime.datetime(2015, 2, 5, 0, 0), '1033': datetime.datetime(2015, 2, 6, 0, 0), '782': datetime.datetime(2015, 7, 17, 0, 0), '979': datetime.datetime(2015, 7, 17, 0, 0), '1302': datetime.datetime(2015, 7, 18, 0, 0), '687': datetime.datetime(2015, 7, 20, 0, 0), '924': datetime.datetime(2015, 8, 11, 0, 0), '946': datetime.datetime(2015, 8, 11, 0, 0), '805': datetime.datetime(2015, 8, 11, 0, 0), '552': datetime.datetime(2015, 8, 14, 0, 0), '1028': datetime.datetime(2015, 8, 21, 0, 0), '122': datetime.datetime(2015, 7, 17, 0, 0), '39': datetime.datetime(2015, 7, 17, 0, 0), '393': datetime.datetime(2015, 7, 18, 0, 0), '1147': datetime.datetime(2015, 7, 19, 0, 0), '325': datetime.datetime(2015, 7, 19, 0, 0), '883': datetime.datetime(2015, 7, 19, 0, 0), '1224': datetime.datetime(2015, 7, 20, 0, 0), '332': datetime.datetime(2015, 8, 11, 0, 0), '443': datetime.datetime(2014, 11, 10, 0, 0), '309': datetime.datetime(2014, 11, 10, 0, 0), '512': datetime.datetime(2014, 11, 10, 0, 0), '230': datetime.datetime(2014, 11, 10, 0, 0), '301': datetime.datetime(2014, 11, 10, 0, 0), '506': datetime.datetime(2014, 11, 10, 0, 0), '1243': datetime.datetime(2014, 11, 10, 0, 0), '1220': datetime.datetime(2014, 11, 10, 0, 0), '755': datetime.datetime(2014, 11, 10, 0, 0), '85': datetime.datetime(2014, 11, 11, 0, 0), '160': datetime.datetime(2014, 11, 11, 0, 0), '1050': datetime.datetime(2015, 8, 11, 0, 0), '834': datetime.datetime(2015, 8, 13, 0, 0), '742': datetime.datetime(2015, 8, 14, 0, 0), '535': datetime.datetime(2015, 2, 8, 0, 0), '636': datetime.datetime(2015, 3, 5, 0, 0), '423': datetime.datetime(2015, 4, 8, 0, 0), '190': datetime.datetime(2015, 4, 8, 0, 0), '692': datetime.datetime(2015, 2, 11, 0, 0), '1101': datetime.datetime(2015, 2, 25, 0, 0), '259': datetime.datetime(2015, 4, 7, 0, 0), '653': datetime.datetime(2015, 7, 8, 0, 0), '1177': datetime.datetime(2015, 3, 11, 0, 0), '233': datetime.datetime(2015, 3, 6, 0, 0), '351': datetime.datetime(2015, 3, 8, 0, 0), '854': datetime.datetime(2015, 8, 23, 0, 0), '880': datetime.datetime(2015, 8, 23, 0, 0), '839': datetime.datetime(2014, 11, 13, 0, 0), '1161': datetime.datetime(2014, 11, 13, 0, 0), '672': datetime.datetime(2014, 11, 14, 0, 0), '282': datetime.datetime(2014, 11, 14, 0, 0), '155': datetime.datetime(2014, 11, 14, 0, 0), '257': datetime.datetime(2014, 11, 15, 0, 0), '311': datetime.datetime(2014, 11, 16, 0, 0), '188': datetime.datetime(2014, 11, 16, 0, 0), '1146': datetime.datetime(2014, 11, 16, 0, 0), '65': datetime.datetime(2014, 11, 16, 0, 0), '787': datetime.datetime(2014, 11, 16, 0, 0), '941': datetime.datetime(2015, 3, 10, 0, 0), '457': datetime.datetime(2015, 3, 10, 0, 0), '985': datetime.datetime(2015, 3, 11, 0, 0), '333': datetime.datetime(2015, 4, 1, 0, 0), '835': datetime.datetime(2014, 12, 3, 0, 0), '549': datetime.datetime(2014, 12, 3, 0, 0), '660': datetime.datetime(2014, 12, 3, 0, 0), '174': datetime.datetime(2014, 12, 3, 0, 0), '514': datetime.datetime(2014, 12, 4, 0, 0), '594': datetime.datetime(2014, 12, 5, 0, 0), '137': datetime.datetime(2014, 12, 6, 0, 0), '778': datetime.datetime(2014, 12, 7, 0, 0), '801': datetime.datetime(2014, 12, 8, 0, 0), '1077': datetime.datetime(2014, 12, 8, 0, 0), '808': datetime.datetime(2014, 12, 8, 0, 0), '241': datetime.datetime(2014, 12, 8, 0, 0), '46': datetime.datetime(2014, 12, 8, 0, 0), '363': datetime.datetime(2015, 4, 2, 0, 0), '269': datetime.datetime(2015, 4, 2, 0, 0), '528': datetime.datetime(2015, 4, 3, 0, 0), '600': datetime.datetime(2015, 4, 7, 0, 0), '1115': datetime.datetime(2015, 4, 8, 0, 0), '920': datetime.datetime(2015, 4, 12, 0, 0), '447': datetime.datetime(2015, 4, 24, 0, 0), '370': datetime.datetime(2015, 4, 24, 0, 0), '84': datetime.datetime(2015, 5, 6, 0, 0), '255': datetime.datetime(2015, 5, 6, 0, 0), '472': datetime.datetime(2015, 1, 7, 0, 0), '272': datetime.datetime(2015, 1, 8, 0, 0), '32': datetime.datetime(2015, 1, 8, 0, 0), '115': datetime.datetime(2015, 1, 11, 0, 0), '434': datetime.datetime(2015, 1, 12, 0, 0), '532': datetime.datetime(2015, 1, 12, 0, 0), '937': datetime.datetime(2015, 5, 6, 0, 0), '927': datetime.datetime(2015, 5, 13, 0, 0), '1022': datetime.datetime(2015, 8, 20, 0, 0), '320': datetime.datetime(2015, 5, 7, 0, 0), '635': datetime.datetime(2015, 5, 7, 0, 0), '182': datetime.datetime(2015, 5, 8, 0, 0), '298': datetime.datetime(2015, 5, 8, 0, 0), '385': datetime.datetime(2015, 5, 8, 0, 0), '175': datetime.datetime(2015, 5, 9, 0, 0), '120': datetime.datetime(2015, 5, 11, 0, 0), '314': datetime.datetime(2015, 5, 11, 0, 0), '331': datetime.datetime(2015, 5, 11, 0, 0), '303': datetime.datetime(2015, 5, 11, 0, 0), '533': datetime.datetime(2015, 5, 11, 0, 0), '17': datetime.datetime(2015, 5, 11, 0, 0), '129': datetime.datetime(2015, 5, 11, 0, 0), '189': datetime.datetime(2015, 5, 12, 0, 0), '4': datetime.datetime(2015, 5, 12, 0, 0), '454': datetime.datetime(2015, 5, 12, 0, 0), '715': datetime.datetime(2015, 5, 12, 0, 0), '410': datetime.datetime(2015, 5, 12, 0, 0), '1007': datetime.datetime(2015, 5, 12, 0, 0), '16': datetime.datetime(2015, 5, 13, 0, 0), '297': datetime.datetime(2015, 1, 12, 0, 0), '373': datetime.datetime(2015, 1, 12, 0, 0), '510': datetime.datetime(2015, 2, 5, 0, 0), '645': datetime.datetime(2015, 2, 9, 0, 0), '36': datetime.datetime(2015, 5, 13, 0, 0), '616': datetime.datetime(2015, 5, 28, 0, 0), '55': datetime.datetime(2015, 5, 29, 0, 0), '538': datetime.datetime(2015, 6, 2, 0, 0), '503': datetime.datetime(2015, 6, 3, 0, 0), '196': datetime.datetime(2015, 6, 3, 0, 0), '1217': datetime.datetime(2015, 8, 13, 0, 0), '762': datetime.datetime(2015, 6, 8, 0, 0), '565': datetime.datetime(2015, 6, 8, 0, 0), '897': datetime.datetime(2015, 6, 8, 0, 0), '518': datetime.datetime(2015, 6, 8, 0, 0), '384': datetime.datetime(2015, 6, 8, 0, 0), '1075': datetime.datetime(2015, 6, 9, 0, 0), '888': datetime.datetime(2015, 6, 9, 0, 0), '1227': datetime.datetime(2015, 6, 9, 0, 0), '176': datetime.datetime(2015, 7, 8, 0, 0), '1231': datetime.datetime(2015, 7, 9, 0, 0), '391': datetime.datetime(2015, 2, 10, 0, 0), '1188': datetime.datetime(2015, 2, 10, 0, 0), '1200': datetime.datetime(2015, 3, 4, 0, 0), '113': datetime.datetime(2015, 3, 4, 0, 0), '409': datetime.datetime(2015, 3, 6, 0, 0), '1082': datetime.datetime(2015, 3, 6, 0, 0), '872': datetime.datetime(2015, 3, 6, 0, 0), '828': datetime.datetime(2015, 3, 9, 0, 0), '172': datetime.datetime(2015, 3, 10, 0, 0), '1276': datetime.datetime(2015, 3, 10, 0, 0), '542': datetime.datetime(2015, 7, 10, 0, 0), '526': datetime.datetime(2015, 7, 16, 0, 0), '355': datetime.datetime(2015, 7, 17, 0, 0), '901': datetime.datetime(2015, 7, 17, 0, 0), '764': datetime.datetime(2015, 7, 17, 0, 0), '210': datetime.datetime(2015, 3, 11, 0, 0), '1048': datetime.datetime(2015, 3, 11, 0, 0), '543': datetime.datetime(2015, 4, 1, 0, 0), '1149': datetime.datetime(2015, 4, 1, 0, 0), '1175': datetime.datetime(2015, 4, 2, 0, 0), '781': datetime.datetime(2015, 4, 2, 0, 0), '425': datetime.datetime(2015, 4, 5, 0, 0), '118': datetime.datetime(2015, 4, 6, 0, 0), '310': datetime.datetime(2015, 4, 6, 0, 0), '19': datetime.datetime(2015, 4, 6, 0, 0), '1070': datetime.datetime(2015, 7, 19, 0, 0), '798': datetime.datetime(2015, 7, 19, 0, 0), '548': datetime.datetime(2015, 7, 20, 0, 0), '1143': datetime.datetime(2015, 8, 11, 0, 0), '931': datetime.datetime(2015, 8, 11, 0, 0), '1056': datetime.datetime(2015, 8, 12, 0, 0), '1235': datetime.datetime(2015, 8, 12, 0, 0), '417': datetime.datetime(2015, 8, 12, 0, 0), '794': datetime.datetime(2015, 8, 13, 0, 0), '816': datetime.datetime(2015, 8, 20, 0, 0), '1269': datetime.datetime(2015, 8, 21, 0, 0), '1067': datetime.datetime(2015, 8, 22, 0, 0), '1157': datetime.datetime(2015, 8, 22, 0, 0), '726': datetime.datetime(2015, 4, 8, 0, 0), '177': datetime.datetime(2015, 4, 10, 0, 0), '797': datetime.datetime(2015, 4, 24, 0, 0), '49': datetime.datetime(2015, 4, 24, 0, 0), '376': datetime.datetime(2015, 5, 5, 0, 0), '228': datetime.datetime(2015, 5, 7, 0, 0), '173': datetime.datetime(2015, 5, 7, 0, 0), '422': datetime.datetime(2015, 5, 8, 0, 0), '236': datetime.datetime(2015, 5, 10, 0, 0), '779': datetime.datetime(2015, 5, 10, 0, 0), '1182': datetime.datetime(2015, 5, 11, 0, 0), '287': datetime.datetime(2015, 5, 11, 0, 0), '648': datetime.datetime(2015, 5, 11, 0, 0), '1249': datetime.datetime(2015, 5, 11, 0, 0), '519': datetime.datetime(2015, 5, 11, 0, 0), '1099': datetime.datetime(2015, 5, 11, 0, 0), '566': datetime.datetime(2015, 5, 12, 0, 0), '846': datetime.datetime(2015, 5, 12, 0, 0), '1052': datetime.datetime(2015, 5, 12, 0, 0), '661': datetime.datetime(2015, 5, 12, 0, 0), '852': datetime.datetime(2015, 5, 12, 0, 0), '491': datetime.datetime(2015, 5, 12, 0, 0), '445': datetime.datetime(2015, 5, 13, 0, 0), '644': datetime.datetime(2015, 5, 13, 0, 0), '68': datetime.datetime(2015, 5, 13, 0, 0), '489': datetime.datetime(2015, 6, 1, 0, 0), '1206': datetime.datetime(2015, 6, 3, 0, 0), '414': datetime.datetime(2015, 6, 7, 0, 0), '226': datetime.datetime(2015, 6, 8, 0, 0), '2': datetime.datetime(2015, 6, 8, 0, 0), '1274': datetime.datetime(2015, 7, 8, 0, 0), '218': datetime.datetime(2015, 7, 8, 0, 0), '324': datetime.datetime(2015, 7, 9, 0, 0), '1000': datetime.datetime(2015, 7, 11, 0, 0), '973': datetime.datetime(2015, 7, 13, 0, 0), '806': datetime.datetime(2015, 7, 15, 0, 0), '1178': datetime.datetime(2015, 7, 16, 0, 0), '832': datetime.datetime(2015, 7, 16, 0, 0), '689': datetime.datetime(2015, 7, 17, 0, 0), '1278': datetime.datetime(2015, 7, 17, 0, 0), '438': datetime.datetime(2015, 7, 17, 0, 0), '992': datetime.datetime(2015, 7, 17, 0, 0), '575': datetime.datetime(2015, 7, 17, 0, 0), '1298': datetime.datetime(2015, 8, 11, 0, 0), '751': datetime.datetime(2015, 8, 11, 0, 0), '1176': datetime.datetime(2015, 8, 12, 0, 0), '1110': datetime.datetime(2015, 8, 13, 0, 0), '874': datetime.datetime(2015, 8, 22, 0, 0), '686': datetime.datetime(2015, 8, 23, 0, 0)}\n"
     ]
    }
   ],
   "source": [
    "# Takes a student's join date and the date of a specific engagement record,\n",
    "# and returns True if that engagement record happened within one week\n",
    "# of the student joining.\n",
    "def within_one_week(join_date, engagement_date):\n",
    "    time_delta = engagement_date - join_date\n",
    "    return time_delta.days < 7 and time_delta.days >=0\n",
    "\n",
    "print(paid_students)"
   ]
  },
  {
   "cell_type": "code",
   "execution_count": 49,
   "metadata": {},
   "outputs": [
    {
     "name": "stdout",
     "output_type": "stream",
     "text": [
      "6919\n"
     ]
    }
   ],
   "source": [
    "#####################################\n",
    "#                 7                 #\n",
    "#####################################\n",
    "\n",
    "## Create a list of rows from the engagement table including only rows where\n",
    "## the student is one of the paid students you just found, and the date is within\n",
    "## one week of the student's join date.\n",
    "\n",
    "def remove_free_trial_cancels(data):\n",
    "    new_data = []\n",
    "    for data_points in data:\n",
    "        if data_points['account_key'] in paid_students:\n",
    "            new_data.append(data_points)\n",
    "    return new_data\n",
    "\n",
    "paid_enrollments = remove_free_trial_cancels(non_udacity_enrollments)\n",
    "paid_engagement = remove_free_trial_cancels(non_udacity_engagement)\n",
    "paid_submissions = remove_free_trial_cancels(non_udacity_submissions)\n",
    "    \n",
    "paid_engagement_in_first_week = []\n",
    "for engagement_record in paid_engagement:\n",
    "    account_key = engagement_record['account_key']\n",
    "    join_date = paid_students[account_key]\n",
    "    engagement_record_date = engagement_record['utc_date']\n",
    "    if within_one_week(join_date,engagement_record_date):\n",
    "        paid_engagement_in_first_week.append(engagement_record)\n",
    "\n",
    "print(len(paid_engagement_in_first_week))"
   ]
  },
  {
   "cell_type": "markdown",
   "metadata": {},
   "source": [
    "## Exploring Student Engagement"
   ]
  },
  {
   "cell_type": "code",
   "execution_count": 57,
   "metadata": {},
   "outputs": [],
   "source": [
    "from collections import defaultdict\n",
    "\n",
    "# Create a dictionary of engagement grouped by student.\n",
    "# The keys are account keys, and the values are lists of engagement records.\n",
    "engagement_by_account = defaultdict(list)\n",
    "for engagement_record in paid_engagement_in_first_week:\n",
    "    account_key = engagement_record['account_key']\n",
    "    engagement_by_account[account_key].append(engagement_record)"
   ]
  },
  {
   "cell_type": "code",
   "execution_count": 58,
   "metadata": {},
   "outputs": [],
   "source": [
    "# Create a dictionary with the total minutes each student spent in the classroom during the first week.\n",
    "# The keys are account keys, and the values are numbers (total minutes)\n",
    "total_minutes_by_account = {}\n",
    "for account_key, engagement_for_student in engagement_by_account.items():\n",
    "    total_minutes = 0\n",
    "    for engagement_record in engagement_for_student:\n",
    "        total_minutes += engagement_record['total_minutes_visited']\n",
    "    total_minutes_by_account[account_key] = total_minutes"
   ]
  },
  {
   "cell_type": "code",
   "execution_count": 64,
   "metadata": {},
   "outputs": [
    {
     "data": {
      "text/plain": [
       "dict_values([494.88049616599994, 18.576384666670002, 0.0, 0.0, 33.3214046667, 329.7578566663, 780.4545511666701, 104.20388850009999, 989.113641833, 448.471384167, 130.12347833367, 0.0, 179.4719088333, 1013.3833969996999, 65.6221875, 983.375040335, 119.12030049999998, 235.49969150033, 155.1361575, 0.0, 447.93897783336996, 931.1036911666699, 657.2052335000001, 1591.3228143334, 943.188117167, 0.0, 430.801675833, 1579.12122666663, 766.256315667, 556.1906033333, 69.6578351667, 0.0, 123.2915048333, 253.9870258334, 180.413814, 765.6402170004, 809.2138958339, 1378.195091668, 0.0, 1001.5888595, 478.21952616690004, 511.925391, 576.4643026663, 88.822038, 0.0, 0.0, 26.1189351667, 854.8288881656, 1055.6871896667, 0.0, 491.9087078335, 0.0, 3.22752383333, 401.97479050029995, 427.764673834, 589.6171318323301, 106.72208133333001, 91.3514995, 1024.109326834, 47.1679638333, 0.0, 496.99219366667, 293.383122167, 465.58233333400005, 346.5030268336, 422.27366000010005, 6.95969283333, 856.8375048337, 0.0, 0.0, 310.04241416702996, 53.5545175, 704.5521115003299, 0.0, 90.48065633329999, 20.8106506667, 186.549237333, 231.80801666640002, 0.0, 416.49598383333, 106.2245978334, 227.6363853331, 537.5285965007, 293.4918854997, 752.4780518326, 500.4921706667001, 0.0, 1035.306503999, 0.0, 63.79716583327, 114.43403466663, 84.9883638333, 611.3200641666999, 751.2236896667, 0.0, 45.3963998333, 8.46994183333, 525.6444536663, 317.10422516660003, 145.70615016660003, 148.7306783333, 277.0299235, 1075.0625133337, 839.123771167, 312.1800340007, 29.0687406666, 171.2928940001, 164.27089083347, 1167.52455983297, 1214.55291799937, 169.159592167, 388.23059683327006, 83.7769855, 186.94018933324, 167.606683, 886.0703749999001, 129.2449371666, 891.8733579995999, 672.9427816664, 266.1378745, 285.36239183329997, 530.1415103337, 0.0, 51.0695815, 1410.5316330013002, 33.4956098333, 334.5606256663, 743.1407118340001, 101.387314333, 0.0, 0.0, 1196.803629999, 80.2133103333, 1017.1034851664001, 613.2567715002999, 34.1685658333, 696.2475044997, 90.3995656667, 86.4587005, 2050.1156751667004, 544.992658666, 201.21822283370003, 405.0228675003, 384.69492683359994, 893.4411686660001, 11.554518, 0.0, 0.0, 56.835209, 414.14088366667, 908.4660900005999, 745.1146233329999, 116.8988095, 736.9791355, 0.0, 635.5124964993, 8.3032715, 0.0, 0.0, 630.1675615003, 531.8882431671, 532.6464248333, 3564.7332644989997, 765.55279683203, 962.5736773336, 0.0, 0.0, 120.87673000033001, 92.5594045, 586.7042849994001, 1887.391213833, 589.8798286670001, 12.9807116667, 414.12743866659997, 2375.7954986677, 1051.5771371676, 570.776941833, 783.3383063341, 913.6758890002999, 95.4642313333, 651.9806806667, 310.2486779997, 418.01940599970004, 247.9964674996, 0.0, 601.3632028330001, 629.3766914993301, 6.20617616667, 1251.6466043334, 7.94751166667, 137.2655706667, 402.42499849989997, 121.07599299993, 315.44705699977, 1166.4244791677, 383.1542506668, 931.3076661670001, 809.546996001, 1452.709982333, 448.5325424996, 0.0, 219.2389440004, 605.7708455, 686.7681608344001, 315.34049566659996, 633.1473566663, 114.39214366666, 356.77551816640005, 4.55604183333, 421.2835453327, 593.1472776666001, 168.3080953333, 836.3458141666999, 30.3670653333, 662.64059800003, 58.36346116669999, 0.0, 2393.5421573319004, 272.6840003337, 467.6978279993, 178.70479883369998, 241.8322233337, 151.60938049966, 30.647238166630004, 247.9695998334, 439.05929566669994, 485.78090949999995, 360.4108591662, 131.7264965, 197.41214399993, 9.75699783333, 1168.2526861667002, 197.0435864997, 931.3838908327, 0.0, 467.5716475007, 704.5008775003, 330.1826238337, 40.220247, 0.0, 288.9210591667, 554.59261383367, 46.605140666699995, 123.5804105, 669.9961104997, 277.3369746671, 183.134135333, 877.8003651663, 284.6907063333, 175.613687167, 343.35795733340007, 0.0, 600.5757328336, 221.72389316627002, 0.0, 39.485681500000005, 595.2719906673, 736.3565788330001, 638.934161833, 0.0, 42.4569508333, 417.4064971669, 110.09569266679999, 371.26458716729996, 1420.1479191659998, 211.5840809997, 314.3331800003, 322.475557667, 1020.3306876671, 830.83625116633, 1203.2224428333002, 70.48434450007001, 1435.0160603327001, 44.477798999970005, 429.03252133340004, 884.915487, 0.0, 143.048056833, 255.53718516670003, 0.0, 570.5658495, 269.194508, 302.608719833, 109.141489, 195.9300631667, 283.36202233326, 4.58531166667, 955.78319766497, 442.37721166627, 0.0, 192.665344, 497.8218254996, 405.600248833, 421.6092228329, 199.06043566667, 338.67828999970004, 213.4699951663, 0.0, 88.12990766662999, 669.9500983341, 165.37368716699999, 2700.4878774989998, 194.7560403337, 538.88974533303, 0.0, 4.19664316667, 554.8758693333999, 150.7999871667, 843.170594833, 59.239222, 888.6124170002998, 1341.720517667, 657.0126268326, 1735.943607166, 2778.3161446706704, 196.3044158337, 343.6706583329, 859.426280833, 0.0, 0.0, 397.24734133329997, 1669.9007213329999, 370.8747679997, 1426.2515225012999, 355.96292199997, 667.7495933323299, 638.196504333, 187.9226685, 501.941580166, 124.52342500033, 129.087694, 0.0, 855.4038108340001, 278.6769970004, 0.0, 13.2610473333, 0.0, 392.473794834, 35.531418, 0.0, 83.295313, 614.9778563333, 246.61175300029998, 248.12435916639998, 713.3479524992999, 0.0, 211.3875440003, 107.74437683336001, 320.97561616674, 729.8468485, 122.07255516670001, 609.2861186673, 944.5557876659999, 64.7772518334, 105.06483083340001, 71.4977216667, 2530.5614099997, 677.2790736659999, 1053.7764165013, 58.3151085, 0.0, 0.0, 37.6347753333, 23.55166316667, 220.21062866679998, 817.9997333323399, 42.3843405, 0.0, 4.24015233333, 197.066153, 532.5829673333, 30.5476253333, 506.55911883299996, 65.9101326667, 803.3391453328, 0.0, 391.3939735, 51.9296121667, 0.0, 73.6446115, 212.1774728337, 925.7537420007, 446.4724451667, 0.0, 0.0, 1208.05215466633, 131.7464566667, 137.9929768333, 0.0, 427.5369333332, 3.3318835, 808.5665558337, 2.17768916667, 0.0, 34.50448516667, 12.05914466667, 177.5920131668, 239.61664966700002, 0.0, 0.0, 604.355107166, 611.4195701674, 741.2804391669999, 57.2638435, 500.9127926667, 59.7725306667, 364.480768, 951.118714666, 0.0, 55.49376599997, 578.9502861663, 68.0673978333, 0.0, 722.84210483367, 22.14904683337, 86.7824926667, 6.72066133333, 96.80278150000001, 357.275143834, 311.1889536663, 127.15142850000001, 0.0, 975.587918167, 0.0, 413.5420181666, 726.26075933267, 0.0, 1024.0636758326, 77.9742268333, 437.22883383330003, 81.51043433337, 696.5725646662999, 433.22729549969995, 858.37418699973, 39.4918656667, 363.94914149996, 847.38115366667, 45.9874008334, 1065.2951291673999, 184.162204667, 1001.813550333, 0.0, 46.3023048333, 90.90472849993, 119.916663667, 20.247478, 1096.72738949933, 79.9306696666, 36.434234, 514.86060716603, 141.19407999967, 438.50690233336, 27.37808133337, 547.552952834, 0.0, 943.8555468324001, 116.03298466660002, 89.6344988334, 749.194206334, 633.4301786670001, 503.05470083299997, 53.1803671667, 131.94636750003, 207.27739616670002, 224.91582050030001, 884.7240451653, 68.2496686666, 174.4431463334, 0.0, 285.75573750030003, 164.161086, 46.6148, 779.5860966676, 4.45095966667, 316.43186650009994, 0.0, 599.325108667, 29.5289625001, 716.3825241659999, 18.786721, 411.84511316623, 188.8958254999, 551.1900968329701, 101.401498833, 829.9734088337, 32.447970500029996, 640.0351108333, 0.0, 586.7405209996, 591.1435670003, 414.253240333, 1217.1688571673, 448.741092333, 385.2513571667001, 367.3854126667, 229.2620115, 32.8227305, 504.04492916670006, 2.8138905, 388.7726185, 459.3740381662999, 75.8750386667, 92.3539813334, 736.5973803337, 307.0653258337, 143.78600349967, 493.53649199967003, 4.26499566667, 626.2345113327, 62.84829066659999, 265.47810483300003, 454.17951166700004, 1381.1028195004, 980.5763799994, 231.0283105, 109.5149769999, 406.0453698336, 303.55134400000003, 61.33310733329999, 0.0, 0.0, 670.3438828333, 256.4187193326, 514.0743979996, 0.0, 1896.7540938320003, 594.0435458336, 422.6295078334, 455.19857933369997, 609.6590520007001, 629.7823334996999, 0.0, 30.6256575, 7.1116735, 172.5712248333, 440.96130916723, 20.879544833329998, 1036.951593167, 183.7893518334, 1421.7436063333, 307.7543378337, 41.7786686667, 0.0, 769.207330667, 32.0522478333, 18.9512853333, 0.0, 932.3012898327, 507.1024986672999, 272.16654083369997, 294.34356566670004, 187.25140866697, 1245.8182150003, 0.0, 105.24544450007, 61.7853381666, 52.4319528333, 326.448714, 21.972605, 18.4937245, 518.1875990003, 133.319127167, 321.3727448333, 28.9028346666, 1477.0239483322998, 173.9382718334, 0.0, 907.111293668, 924.2469394994, 0.0, 400.8135763341, 911.11994133237, 120.55847799993, 28.5667518333, 298.253430333, 712.1588875006701, 122.48917700033, 2.4822425, 762.169280667, 0.0, 535.00554450033, 77.7392298333, 9.64132116667, 84.6351145, 4.56274816667, 0.0, 0.0, 488.40353200030006, 0.0, 0.0, 335.5259626667, 311.07236283327, 1047.649452501, 399.2498304993, 146.89298433300002, 24.87366349997, 0.0, 615.9597956661, 207.9139188337, 1890.9937024994, 218.3752333334, 456.3332818333, 547.7397464997, 248.29428850003, 73.7238143333, 653.1940411656001, 382.93037050067, 52.9136506667, 545.9623025, 101.1193401667, 108.47527400000001, 321.2057135, 432.987765666, 513.8126981664001, 1482.9020456663002, 557.5625511664, 204.02415449966998, 396.82058733329995, 230.70437450010002, 1026.8480728333, 0.0, 95.1225038333, 1047.4820013337, 203.3427993337, 374.365616, 394.5387589999, 237.7646521667, 84.558989, 1689.189059835, 223.73943383300002, 80.5941101667, 169.3917738333, 89.0572956666, 416.14186616669997, 0.0, 340.70627749999994, 421.960349833, 793.6706421670001, 488.3752611667, 847.3979861667, 264.5287276666, 73.5741316667, 129.1323983333, 700.4743598327, 114.84451633329999, 1346.7158483327, 479.86306116670005, 736.4371648339999, 177.8367486667, 0.0, 0.0, 193.848226, 92.5547231666, 0.0, 138.052647, 144.1243173333, 0.0, 454.273163499, 115.15559099992998, 32.816891, 348.39415716703, 171.593366833, 16.5745846667, 100.0702155, 25.243540000000003, 9.61211033333, 18.889756499999997, 0.0, 0.0, 16.604203, 0.0, 198.6962631669, 666.3290910003, 88.1119545, 56.45108966666999, 0.0, 0.0, 0.0, 1329.9598305, 88.0103965, 3.56199133333, 253.23675750029997, 139.060529, 307.3006509996, 0.0, 9.4907925, 401.81893949967, 29.9067615, 21.1284496667, 0.0, 41.7199715, 219.926066667, 0.0, 313.50181033333, 489.7736965, 0.0, 374.5761038331, 706.5435295006, 0.0, 324.6302378336, 52.1289673334, 30.5951761667, 116.628876833, 413.3262124997, 34.0330873333, 0.0, 354.6223496663, 0.0, 100.06368333333, 85.29257, 59.340783666700005, 135.6825435, 275.16640700005996, 0.0, 0.0, 199.31994916669998, 48.1974151667, 4.2604045, 0.0, 0.0, 277.8489021664, 176.3818004999, 4.78649716667, 23.695871500029998, 0.0, 417.953548167, 1369.641421833, 0.0, 146.9410850001, 0.0, 0.0, 397.8826263333, 122.87407133333, 0.0, 22.7346656667, 84.1050015, 49.937148999970006, 106.2993215, 1138.3177014993998, 1764.5367983344001, 0.0, 2.30081433333, 0.0, 260.47024649996, 27.3957285, 345.17664533360005, 129.762569, 51.016355999999995, 0.0, 2.38093233333, 21.5715365, 0.0, 29.38455616663, 13.587055, 0.0, 924.060058833, 817.60166266567, 32.6861011667, 58.5606146667, 214.54059633330002, 5.92106983333, 64.29995600000001, 92.6896001666, 0.0, 0.0, 260.94864483347, 2.54122166667, 53.1295885, 0.0, 0.0, 13.442560666670001, 129.3303274997, 30.2541315, 49.7470893333, 26.5230981667, 15.5930261667, 0.0, 235.39055499926997, 1403.366643835, 62.78241916663, 3.3880415, 0.0, 0.0, 22.0889656667, 0.0, 26.5587726667, 108.9832133333, 5.75313916667, 63.3749175, 0.0, 72.9583085, 65.7383995, 21.086721, 663.5424139989, 156.1449683333, 0.0, 209.96127933370002, 125.44656916667, 80.6559995, 0.0, 0.0, 5.03956, 160.1049253333, 69.45209899999999, 0.0, 0.0, 2.99934966667, 131.70276883329998, 94.3237553333, 107.3523146666, 120.657056167, 91.64868466669999, 240.5959745003, 6.80688283333, 0.0, 666.393701501, 8.08317416667, 449.6269801663, 24.9669023333, 96.1137128333, 42.35008283337, 3.7103945, 65.0527071667, 3.35443916667, 517.8334496674, 0.0, 68.4192841666, 46.494977, 182.85550433323, 61.420162, 0.0, 106.08401216677001, 39.0104288333, 180.025886167, 16.2005246667, 8.1809285, 0.0, 0.0, 118.71332966671, 4.3800225, 619.9953998326, 38.87817050003, 75.87298200000001, 0.0, 18.8601366667, 3.50885666667, 218.55650866673005, 11.741084, 13.899305166700001, 959.9534376661, 0.0, 0.0, 12.9824898333, 45.5670335, 0.0, 37.853095, 84.5200338333, 117.195806333, 81.4415533333, 0.0, 71.5736406667, 366.5285674997, 0.0, 1768.5227493319999, 366.3194163334, 0.0, 29.7377383333, 1309.1846301673, 0.0, 0.0, 35.81870033337, 0.0, 90.6038805, 152.213267167, 5.51051366667, 0.0, 51.1061375, 179.4080511666, 0.0, 53.190095, 0.0, 464.4721495011001, 30.0975526667, 269.29544283309997, 739.8981633335999, 108.8893720001, 0.0, 0.0, 73.6289658334, 52.90383883333, 0.0, 37.2096841667, 0.0, 0.0, 89.38367816659999, 20.21580533333, 12.6563396667, 0.0, 53.4711175, 137.6759001667, 693.148515833, 0.0, 321.75119083367, 129.85920366667, 0.0, 299.9208106657, 0.0, 105.57724800007, 28.805244, 876.6454899994, 150.810125167, 113.43918199967, 565.6616593333, 0.0, 0.0, 2.70408483333, 87.8123571667, 56.4237046666, 870.43417899963, 0.0, 55.7923973333, 76.1418825, 2.7094835, 754.5790381659999, 43.0449731666, 0.0, 42.3039228333, 63.1747861666, 258.849289167, 51.7192425, 200.75333083330003, 292.8858635, 168.1376205, 6.5907805, 4.71476416667, 696.57720983267, 395.022838667, 48.67926333336, 291.7782771666, 0.0, 76.7225691667, 26.4703245, 114.066953, 247.9447956666, 430.7856678337, 0.0, 0.0, 12.822523, 1360.7287001670002, 266.32487266671006, 100.837620167, 118.30495933329999, 61.0835323333, 0.0, 0.0, 0.0, 621.5755701662999, 172.77872349963, 0.0, 0.0, 62.9114363333, 53.5962256666, 79.19556549999999, 3.50918183333, 9.62371516667, 10.0058803333, 11.2880193333, 0.0, 187.32349033330001, 30.8061303333, 0.0, 0.0, 0.0, 383.99752900006996, 2.01734133333, 0.0, 0.0, 0.0, 11.3308886667, 4.79064933333, 438.5049581666, 62.8929255, 0.0, 0.0, 134.5242838333, 32.4256981667, 0.0, 5.45628333333, 78.787234, 233.20550333356, 143.91027249997, 0.0, 0.0, 0.0, 9.771473833329999])"
      ]
     },
     "execution_count": 64,
     "metadata": {},
     "output_type": "execute_result"
    }
   ],
   "source": [
    "import numpy as np\n",
    "\n",
    "# Summarize the data about minutes spent in the classroom\n",
    "total_minutes = total_minutes_by_account.values()\n",
    "total_minutes\n",
    "\n",
    "#print('Mean:', np.mean(total_minutes))\n",
    "#print('Standard deviation:', np.std(total_minutes))\n",
    "#print('Minimum:', np.min(total_minutes))\n",
    "#print('Maximum:', np.max(total_minutes))"
   ]
  },
  {
   "cell_type": "markdown",
   "metadata": {},
   "source": [
    "## Debugging Data Analysis Code"
   ]
  },
  {
   "cell_type": "code",
   "execution_count": null,
   "metadata": {
    "collapsed": true
   },
   "outputs": [],
   "source": [
    "#####################################\n",
    "#                 8                 #\n",
    "#####################################\n",
    "\n",
    "## Go through a similar process as before to see if there is a problem.\n",
    "## Locate at least one surprising piece of data, output it, and take a look at it."
   ]
  },
  {
   "cell_type": "markdown",
   "metadata": {},
   "source": [
    "## Lessons Completed in First Week"
   ]
  },
  {
   "cell_type": "code",
   "execution_count": null,
   "metadata": {
    "collapsed": true
   },
   "outputs": [],
   "source": [
    "#####################################\n",
    "#                 9                 #\n",
    "#####################################\n",
    "\n",
    "## Adapt the code above to find the mean, standard deviation, minimum, and maximum for\n",
    "## the number of lessons completed by each student during the first week. Try creating\n",
    "## one or more functions to re-use the code above."
   ]
  },
  {
   "cell_type": "markdown",
   "metadata": {},
   "source": [
    "## Number of Visits in First Week"
   ]
  },
  {
   "cell_type": "code",
   "execution_count": null,
   "metadata": {
    "collapsed": true
   },
   "outputs": [],
   "source": [
    "######################################\n",
    "#                 10                 #\n",
    "######################################\n",
    "\n",
    "## Find the mean, standard deviation, minimum, and maximum for the number of\n",
    "## days each student visits the classroom during the first week."
   ]
  },
  {
   "cell_type": "markdown",
   "metadata": {},
   "source": [
    "## Splitting out Passing Students"
   ]
  },
  {
   "cell_type": "code",
   "execution_count": null,
   "metadata": {
    "collapsed": true
   },
   "outputs": [],
   "source": [
    "######################################\n",
    "#                 11                 #\n",
    "######################################\n",
    "\n",
    "## Create two lists of engagement data for paid students in the first week.\n",
    "## The first list should contain data for students who eventually pass the\n",
    "## subway project, and the second list should contain data for students\n",
    "## who do not.\n",
    "\n",
    "subway_project_lesson_keys = ['746169184', '3176718735']\n",
    "\n",
    "passing_engagement =\n",
    "non_passing_engagement ="
   ]
  },
  {
   "cell_type": "markdown",
   "metadata": {},
   "source": [
    "## Comparing the Two Student Groups"
   ]
  },
  {
   "cell_type": "code",
   "execution_count": null,
   "metadata": {
    "collapsed": true
   },
   "outputs": [],
   "source": [
    "######################################\n",
    "#                 12                 #\n",
    "######################################\n",
    "\n",
    "## Compute some metrics you're interested in and see how they differ for\n",
    "## students who pass the subway project vs. students who don't. A good\n",
    "## starting point would be the metrics we looked at earlier (minutes spent\n",
    "## in the classroom, lessons completed, and days visited)."
   ]
  },
  {
   "cell_type": "markdown",
   "metadata": {},
   "source": [
    "## Making Histograms"
   ]
  },
  {
   "cell_type": "code",
   "execution_count": null,
   "metadata": {
    "collapsed": true
   },
   "outputs": [],
   "source": [
    "######################################\n",
    "#                 13                 #\n",
    "######################################\n",
    "\n",
    "## Make histograms of the three metrics we looked at earlier for both\n",
    "## students who passed the subway project and students who didn't. You\n",
    "## might also want to make histograms of any other metrics you examined."
   ]
  },
  {
   "cell_type": "markdown",
   "metadata": {},
   "source": [
    "## Improving Plots and Sharing Findings"
   ]
  },
  {
   "cell_type": "code",
   "execution_count": null,
   "metadata": {
    "collapsed": true
   },
   "outputs": [],
   "source": [
    "######################################\n",
    "#                 14                 #\n",
    "######################################\n",
    "\n",
    "## Make a more polished version of at least one of your visualizations\n",
    "## from earlier. Try importing the seaborn library to make the visualization\n",
    "## look better, adding axis labels and a title, and changing one or more\n",
    "## arguments to the hist() function."
   ]
  }
 ],
 "metadata": {
  "kernelspec": {
   "display_name": "Python 3",
   "language": "python",
   "name": "python3"
  },
  "language_info": {
   "codemirror_mode": {
    "name": "ipython",
    "version": 3
   },
   "file_extension": ".py",
   "mimetype": "text/x-python",
   "name": "python",
   "nbconvert_exporter": "python",
   "pygments_lexer": "ipython3",
   "version": "3.7.3"
  }
 },
 "nbformat": 4,
 "nbformat_minor": 1
}
